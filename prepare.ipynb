{
 "cells": [
  {
   "cell_type": "code",
   "execution_count": 152,
   "id": "a298f679-7f42-4b4e-ad5e-5b62dbb99bf8",
   "metadata": {},
   "outputs": [],
   "source": [
    "import pandas as pd\n",
    "import numpy as np"
   ]
  },
  {
   "cell_type": "code",
   "execution_count": 153,
   "id": "39eb8cb0-3406-4749-936e-0325d0b4783f",
   "metadata": {},
   "outputs": [],
   "source": [
    "df_original = pd.read_csv(\"./raw.csv\", index_col=False)\n",
    "columns = [str(i) for i in  range(0, len(list(df_original)))]\n",
    "df_original.columns = columns"
   ]
  },
  {
   "cell_type": "code",
   "execution_count": 154,
   "id": "234ced8e-59b1-4263-b962-66f44d5a2c8b",
   "metadata": {},
   "outputs": [
    {
     "data": {
      "text/html": [
       "<div>\n",
       "<style scoped>\n",
       "    .dataframe tbody tr th:only-of-type {\n",
       "        vertical-align: middle;\n",
       "    }\n",
       "\n",
       "    .dataframe tbody tr th {\n",
       "        vertical-align: top;\n",
       "    }\n",
       "\n",
       "    .dataframe thead th {\n",
       "        text-align: right;\n",
       "    }\n",
       "</style>\n",
       "<table border=\"1\" class=\"dataframe\">\n",
       "  <thead>\n",
       "    <tr style=\"text-align: right;\">\n",
       "      <th></th>\n",
       "      <th>0</th>\n",
       "      <th>1</th>\n",
       "      <th>2</th>\n",
       "      <th>3</th>\n",
       "      <th>4</th>\n",
       "      <th>5</th>\n",
       "      <th>6</th>\n",
       "      <th>7</th>\n",
       "      <th>8</th>\n",
       "      <th>9</th>\n",
       "      <th>...</th>\n",
       "      <th>20</th>\n",
       "      <th>21</th>\n",
       "      <th>22</th>\n",
       "      <th>23</th>\n",
       "      <th>24</th>\n",
       "      <th>25</th>\n",
       "      <th>26</th>\n",
       "      <th>27</th>\n",
       "      <th>28</th>\n",
       "      <th>29</th>\n",
       "    </tr>\n",
       "  </thead>\n",
       "  <tbody>\n",
       "    <tr>\n",
       "      <th>0</th>\n",
       "      <td>1986</td>\n",
       "      <td>EK2986</td>\n",
       "      <td>C539</td>\n",
       "      <td>82623</td>\n",
       "      <td>C53.9</td>\n",
       "      <td>783313372</td>\n",
       "      <td>Konguta k�la</td>\n",
       "      <td>7</td>\n",
       "      <td>9</td>\n",
       "      <td>2015</td>\n",
       "      <td>...</td>\n",
       "      <td>NaN</td>\n",
       "      <td>NaN</td>\n",
       "      <td>NaN</td>\n",
       "      <td>9</td>\n",
       "      <td>Lõuna</td>\n",
       "      <td>Lõuna</td>\n",
       "      <td>9</td>\n",
       "      <td>diagnosed alive</td>\n",
       "      <td>33</td>\n",
       "      <td>1</td>\n",
       "    </tr>\n",
       "    <tr>\n",
       "      <th>1</th>\n",
       "      <td>449</td>\n",
       "      <td>EK1449</td>\n",
       "      <td>C539</td>\n",
       "      <td>89803</td>\n",
       "      <td>C53.9</td>\n",
       "      <td>377840000</td>\n",
       "      <td>Tallinn2018</td>\n",
       "      <td>7</td>\n",
       "      <td>4</td>\n",
       "      <td>2008</td>\n",
       "      <td>...</td>\n",
       "      <td>3</td>\n",
       "      <td>0</td>\n",
       "      <td>0</td>\n",
       "      <td>3</td>\n",
       "      <td>Harju</td>\n",
       "      <td>Tallinn</td>\n",
       "      <td>3</td>\n",
       "      <td>diagnosed alive</td>\n",
       "      <td>65</td>\n",
       "      <td>1</td>\n",
       "    </tr>\n",
       "    <tr>\n",
       "      <th>2</th>\n",
       "      <td>578</td>\n",
       "      <td>EK1578</td>\n",
       "      <td>C531</td>\n",
       "      <td>80003</td>\n",
       "      <td>C53.1</td>\n",
       "      <td>443220000</td>\n",
       "      <td>Kohtla-J�rve linn</td>\n",
       "      <td>0</td>\n",
       "      <td>9</td>\n",
       "      <td>2011</td>\n",
       "      <td>...</td>\n",
       "      <td>NaN</td>\n",
       "      <td>NaN</td>\n",
       "      <td>NaN</td>\n",
       "      <td>9</td>\n",
       "      <td>Ida-Viru</td>\n",
       "      <td>Ida-Viru</td>\n",
       "      <td>9</td>\n",
       "      <td>death certificate only</td>\n",
       "      <td>63</td>\n",
       "      <td>0</td>\n",
       "    </tr>\n",
       "    <tr>\n",
       "      <th>3</th>\n",
       "      <td>1600</td>\n",
       "      <td>EK2600</td>\n",
       "      <td>C538</td>\n",
       "      <td>80703</td>\n",
       "      <td>C53.8</td>\n",
       "      <td>863895766</td>\n",
       "      <td>Otsa k�la</td>\n",
       "      <td>7</td>\n",
       "      <td>9</td>\n",
       "      <td>2014</td>\n",
       "      <td>...</td>\n",
       "      <td>NaN</td>\n",
       "      <td>NaN</td>\n",
       "      <td>NaN</td>\n",
       "      <td>9</td>\n",
       "      <td>Lõuna</td>\n",
       "      <td>Lõuna</td>\n",
       "      <td>9</td>\n",
       "      <td>diagnosed alive</td>\n",
       "      <td>44</td>\n",
       "      <td>1</td>\n",
       "    </tr>\n",
       "    <tr>\n",
       "      <th>4</th>\n",
       "      <td>1329</td>\n",
       "      <td>EK2329</td>\n",
       "      <td>C539</td>\n",
       "      <td>80713</td>\n",
       "      <td>C53.9</td>\n",
       "      <td>706692020</td>\n",
       "      <td>Iira k�la</td>\n",
       "      <td>7</td>\n",
       "      <td>2</td>\n",
       "      <td>2015</td>\n",
       "      <td>...</td>\n",
       "      <td>NaN</td>\n",
       "      <td>NaN</td>\n",
       "      <td>NaN</td>\n",
       "      <td>9</td>\n",
       "      <td>Kesk</td>\n",
       "      <td>Kesk</td>\n",
       "      <td>9</td>\n",
       "      <td>diagnosed alive</td>\n",
       "      <td>52</td>\n",
       "      <td>1</td>\n",
       "    </tr>\n",
       "  </tbody>\n",
       "</table>\n",
       "<p>5 rows × 30 columns</p>\n",
       "</div>"
      ],
      "text/plain": [
       "      0       1     2      3      4          5                  6  7  8     9  \\\n",
       "0  1986  EK2986  C539  82623  C53.9  783313372       Konguta k�la  7  9  2015   \n",
       "1   449  EK1449  C539  89803  C53.9  377840000        Tallinn2018  7  4  2008   \n",
       "2   578  EK1578  C531  80003  C53.1  443220000  Kohtla-J�rve linn  0  9  2011   \n",
       "3  1600  EK2600  C538  80703  C53.8  863895766          Otsa k�la  7  9  2014   \n",
       "4  1329  EK2329  C539  80713  C53.9  706692020          Iira k�la  7  2  2015   \n",
       "\n",
       "   ...   20   21   22 23        24        25 26                      27  28 29  \n",
       "0  ...  NaN  NaN  NaN  9     Lõuna     Lõuna  9         diagnosed alive  33  1  \n",
       "1  ...    3    0    0  3     Harju   Tallinn  3         diagnosed alive  65  1  \n",
       "2  ...  NaN  NaN  NaN  9  Ida-Viru  Ida-Viru  9  death certificate only  63  0  \n",
       "3  ...  NaN  NaN  NaN  9     Lõuna     Lõuna  9         diagnosed alive  44  1  \n",
       "4  ...  NaN  NaN  NaN  9      Kesk      Kesk  9         diagnosed alive  52  1  \n",
       "\n",
       "[5 rows x 30 columns]"
      ]
     },
     "execution_count": 154,
     "metadata": {},
     "output_type": "execute_result"
    }
   ],
   "source": [
    "df_original.head()"
   ]
  },
  {
   "cell_type": "code",
   "execution_count": 155,
   "id": "0311edb9-7ec0-4f4a-9c64-4e4b29b6823d",
   "metadata": {},
   "outputs": [],
   "source": [
    "#берем только dignosed alive\n",
    "\n",
    "df = df_original[[\n",
    "    '3',\n",
    "    '9',\n",
    "    '27',\n",
    "    '17',\n",
    "    '19',\n",
    "    '18',\n",
    "    '25',\n",
    "    '28',\n",
    "    '26',\n",
    "]]\n",
    "df = df.rename(columns={\n",
    "    \"3\": \"Code\",\n",
    "    \"27\": 'Dgnstat',\n",
    "    \"9\": \"Year\", \n",
    "    \"17\": \"Nationality\",\n",
    "    \"18\": \"Education\",\n",
    "    \"19\": \"Marital Status\", \n",
    "    \"28\": \"Age\",\n",
    "    \"25\": \"Residence\",\n",
    "    \"26\": \"Stage\"\n",
    "})"
   ]
  },
  {
   "cell_type": "code",
   "execution_count": 156,
   "id": "062e8e7c-e702-4471-9d9b-ba1964995ab9",
   "metadata": {},
   "outputs": [
    {
     "data": {
      "text/html": [
       "<div>\n",
       "<style scoped>\n",
       "    .dataframe tbody tr th:only-of-type {\n",
       "        vertical-align: middle;\n",
       "    }\n",
       "\n",
       "    .dataframe tbody tr th {\n",
       "        vertical-align: top;\n",
       "    }\n",
       "\n",
       "    .dataframe thead th {\n",
       "        text-align: right;\n",
       "    }\n",
       "</style>\n",
       "<table border=\"1\" class=\"dataframe\">\n",
       "  <thead>\n",
       "    <tr style=\"text-align: right;\">\n",
       "      <th></th>\n",
       "      <th>Code</th>\n",
       "      <th>Year</th>\n",
       "      <th>Dgnstat</th>\n",
       "      <th>Nationality</th>\n",
       "      <th>Marital Status</th>\n",
       "      <th>Education</th>\n",
       "      <th>Residence</th>\n",
       "      <th>Age</th>\n",
       "      <th>Stage</th>\n",
       "    </tr>\n",
       "  </thead>\n",
       "  <tbody>\n",
       "    <tr>\n",
       "      <th>0</th>\n",
       "      <td>82623</td>\n",
       "      <td>2015</td>\n",
       "      <td>diagnosed alive</td>\n",
       "      <td>Estonian</td>\n",
       "      <td>married</td>\n",
       "      <td>University&amp;higher</td>\n",
       "      <td>Lõuna</td>\n",
       "      <td>33</td>\n",
       "      <td>9</td>\n",
       "    </tr>\n",
       "    <tr>\n",
       "      <th>1</th>\n",
       "      <td>89803</td>\n",
       "      <td>2008</td>\n",
       "      <td>diagnosed alive</td>\n",
       "      <td>Estonian</td>\n",
       "      <td>widow</td>\n",
       "      <td>Secondary</td>\n",
       "      <td>Tallinn</td>\n",
       "      <td>65</td>\n",
       "      <td>3</td>\n",
       "    </tr>\n",
       "    <tr>\n",
       "      <th>2</th>\n",
       "      <td>80003</td>\n",
       "      <td>2011</td>\n",
       "      <td>death certificate only</td>\n",
       "      <td>Russian</td>\n",
       "      <td>divorced</td>\n",
       "      <td>Secondary</td>\n",
       "      <td>Ida-Viru</td>\n",
       "      <td>63</td>\n",
       "      <td>9</td>\n",
       "    </tr>\n",
       "    <tr>\n",
       "      <th>3</th>\n",
       "      <td>80703</td>\n",
       "      <td>2014</td>\n",
       "      <td>diagnosed alive</td>\n",
       "      <td>Estonian</td>\n",
       "      <td>divorced</td>\n",
       "      <td>Basic</td>\n",
       "      <td>Lõuna</td>\n",
       "      <td>44</td>\n",
       "      <td>9</td>\n",
       "    </tr>\n",
       "    <tr>\n",
       "      <th>4</th>\n",
       "      <td>80713</td>\n",
       "      <td>2015</td>\n",
       "      <td>diagnosed alive</td>\n",
       "      <td>Estonian</td>\n",
       "      <td>single</td>\n",
       "      <td>Secondary</td>\n",
       "      <td>Kesk</td>\n",
       "      <td>52</td>\n",
       "      <td>9</td>\n",
       "    </tr>\n",
       "  </tbody>\n",
       "</table>\n",
       "</div>"
      ],
      "text/plain": [
       "    Code  Year                 Dgnstat Nationality Marital Status  \\\n",
       "0  82623  2015         diagnosed alive    Estonian        married   \n",
       "1  89803  2008         diagnosed alive    Estonian          widow   \n",
       "2  80003  2011  death certificate only     Russian       divorced   \n",
       "3  80703  2014         diagnosed alive    Estonian       divorced   \n",
       "4  80713  2015         diagnosed alive    Estonian         single   \n",
       "\n",
       "           Education Residence  Age  Stage  \n",
       "0  University&higher     Lõuna   33      9  \n",
       "1          Secondary   Tallinn   65      3  \n",
       "2          Secondary  Ida-Viru   63      9  \n",
       "3              Basic     Lõuna   44      9  \n",
       "4          Secondary      Kesk   52      9  "
      ]
     },
     "execution_count": 156,
     "metadata": {},
     "output_type": "execute_result"
    }
   ],
   "source": [
    "df.head()"
   ]
  },
  {
   "cell_type": "code",
   "execution_count": 157,
   "id": "9587f0cd-78eb-418c-a198-06b684b8332e",
   "metadata": {},
   "outputs": [],
   "source": [
    "df = df.drop(df[df['Dgnstat'] != 'diagnosed alive'].index)"
   ]
  },
  {
   "cell_type": "code",
   "execution_count": 158,
   "id": "fa76a02f-8731-4ff8-ac2c-19bf3391de87",
   "metadata": {},
   "outputs": [],
   "source": [
    "df['Education'] = df['Education'].replace(['Basic', 'Primary'], 'Basic&Primary')"
   ]
  },
  {
   "cell_type": "code",
   "execution_count": 159,
   "id": "b5a46f61-f998-4e3a-97bd-d873a4fd13b9",
   "metadata": {},
   "outputs": [],
   "source": [
    "df['Residence'] = df['Residence'].replace(['Tartu'], 'Lõuna')\n",
    "df['Residence'] = df['Residence'].replace(['Tallinn'], 'Harju')\n",
    "df['Residence'] = df['Residence'].replace(['Tartu'], 'Lõuna')\n",
    "df['Residence'] = df['Residence'].replace(['Harju'], 'North')\n",
    "df['Residence'] = df['Residence'].replace(['Lääne'], 'West')\n",
    "df['Residence'] = df['Residence'].replace(['Kesk'], 'Central')\n",
    "df['Residence'] = df['Residence'].replace(['Ida-Viru'], 'North-East')\n",
    "df['Residence'] = df['Residence'].replace(['Lõuna'], 'South')"
   ]
  },
  {
   "cell_type": "code",
   "execution_count": 160,
   "id": "80f67eeb-0cae-444c-8689-3c2538f71009",
   "metadata": {},
   "outputs": [
    {
     "data": {
      "text/html": [
       "<div>\n",
       "<style scoped>\n",
       "    .dataframe tbody tr th:only-of-type {\n",
       "        vertical-align: middle;\n",
       "    }\n",
       "\n",
       "    .dataframe tbody tr th {\n",
       "        vertical-align: top;\n",
       "    }\n",
       "\n",
       "    .dataframe thead th {\n",
       "        text-align: right;\n",
       "    }\n",
       "</style>\n",
       "<table border=\"1\" class=\"dataframe\">\n",
       "  <thead>\n",
       "    <tr style=\"text-align: right;\">\n",
       "      <th></th>\n",
       "      <th>Code</th>\n",
       "      <th>Year</th>\n",
       "      <th>Dgnstat</th>\n",
       "      <th>Nationality</th>\n",
       "      <th>Marital Status</th>\n",
       "      <th>Education</th>\n",
       "      <th>Residence</th>\n",
       "      <th>Age</th>\n",
       "      <th>Stage</th>\n",
       "    </tr>\n",
       "  </thead>\n",
       "  <tbody>\n",
       "    <tr>\n",
       "      <th>0</th>\n",
       "      <td>82623</td>\n",
       "      <td>2015</td>\n",
       "      <td>diagnosed alive</td>\n",
       "      <td>Estonian</td>\n",
       "      <td>married</td>\n",
       "      <td>University&amp;higher</td>\n",
       "      <td>South</td>\n",
       "      <td>33</td>\n",
       "      <td>9</td>\n",
       "    </tr>\n",
       "    <tr>\n",
       "      <th>1</th>\n",
       "      <td>89803</td>\n",
       "      <td>2008</td>\n",
       "      <td>diagnosed alive</td>\n",
       "      <td>Estonian</td>\n",
       "      <td>widow</td>\n",
       "      <td>Secondary</td>\n",
       "      <td>North</td>\n",
       "      <td>65</td>\n",
       "      <td>3</td>\n",
       "    </tr>\n",
       "    <tr>\n",
       "      <th>3</th>\n",
       "      <td>80703</td>\n",
       "      <td>2014</td>\n",
       "      <td>diagnosed alive</td>\n",
       "      <td>Estonian</td>\n",
       "      <td>divorced</td>\n",
       "      <td>Basic&amp;Primary</td>\n",
       "      <td>South</td>\n",
       "      <td>44</td>\n",
       "      <td>9</td>\n",
       "    </tr>\n",
       "    <tr>\n",
       "      <th>4</th>\n",
       "      <td>80713</td>\n",
       "      <td>2015</td>\n",
       "      <td>diagnosed alive</td>\n",
       "      <td>Estonian</td>\n",
       "      <td>single</td>\n",
       "      <td>Secondary</td>\n",
       "      <td>Central</td>\n",
       "      <td>52</td>\n",
       "      <td>9</td>\n",
       "    </tr>\n",
       "    <tr>\n",
       "      <th>5</th>\n",
       "      <td>80713</td>\n",
       "      <td>2013</td>\n",
       "      <td>diagnosed alive</td>\n",
       "      <td>Russian</td>\n",
       "      <td>divorced</td>\n",
       "      <td>Secondary</td>\n",
       "      <td>North-East</td>\n",
       "      <td>48</td>\n",
       "      <td>9</td>\n",
       "    </tr>\n",
       "  </tbody>\n",
       "</table>\n",
       "</div>"
      ],
      "text/plain": [
       "    Code  Year          Dgnstat Nationality Marital Status          Education  \\\n",
       "0  82623  2015  diagnosed alive    Estonian        married  University&higher   \n",
       "1  89803  2008  diagnosed alive    Estonian          widow          Secondary   \n",
       "3  80703  2014  diagnosed alive    Estonian       divorced      Basic&Primary   \n",
       "4  80713  2015  diagnosed alive    Estonian         single          Secondary   \n",
       "5  80713  2013  diagnosed alive     Russian       divorced          Secondary   \n",
       "\n",
       "    Residence  Age  Stage  \n",
       "0       South   33      9  \n",
       "1       North   65      3  \n",
       "3       South   44      9  \n",
       "4     Central   52      9  \n",
       "5  North-East   48      9  "
      ]
     },
     "execution_count": 160,
     "metadata": {},
     "output_type": "execute_result"
    }
   ],
   "source": [
    "df.head()"
   ]
  },
  {
   "cell_type": "code",
   "execution_count": 161,
   "id": "01cbedc0-0c79-4633-8b40-72142e38b68f",
   "metadata": {},
   "outputs": [],
   "source": [
    "def groupCode(x) :\n",
    "    x = int(x)\n",
    "    if x >= 85603:\n",
    "        g = 'AC'\n",
    "    elif x >= 80500 and x <= 80789:\n",
    "        g = 'SCC'\n",
    "    elif x >= 80830 and x <= 80849:\n",
    "        g = 'SCC'\n",
    "    elif x >= 81400 and x <= 81419:\n",
    "        g = 'AC'\n",
    "    elif x >= 81900 and x <= 82119:\n",
    "        g = 'AC'\n",
    "    elif x >= 82300 and x <= 82319:\n",
    "        g = 'AC'\n",
    "    elif x >= 82600 and x <= 82659:\n",
    "        g = 'AC'\n",
    "    elif x >= 83100 and x <= 83109:\n",
    "        g = 'AC'\n",
    "    elif x >= 83800 and x <= 83809:\n",
    "        g = 'AC'\n",
    "    elif x >= 83820 and x <= 83849:\n",
    "        g = 'AC'\n",
    "    elif x >= 84400 and x <= 84909:\n",
    "        g = 'AC'\n",
    "    elif x >= 85700 and x <= 85749:\n",
    "        g = 'AC'\n",
    "    elif x >= 85760 and x <= 85769:\n",
    "        g = 'AC'\n",
    "    else:\n",
    "        g = 'Unknown' \n",
    "    return g\n",
    "\n",
    "def groupStage(x) :\n",
    "    x = int(x)\n",
    "    if x == 1:\n",
    "        g = 0\n",
    "    elif x >= 2 and x <= 4:\n",
    "        g = 1\n",
    "    else:\n",
    "        g = 'Unknown'\n",
    "    return g\n",
    "\n",
    "def groupPeriod(x) :\n",
    "    x = int(x)\n",
    "    if x >= 2007 and x <= 2010:\n",
    "        g = '2007-2010'\n",
    "    elif x >= 2011 and x <= 2014:\n",
    "        g = '2011-2014'\n",
    "    elif x >= 2015 and x <= 2018:\n",
    "        g = '2015-2018'\n",
    "    else:\n",
    "        g = 'Unknown'\n",
    "    return g\n",
    "\n",
    "def groupAge(x) :\n",
    "    x = int(x)\n",
    "    if x <= 29:\n",
    "        g = '<= 29'\n",
    "    elif x >= 30 and x <= 44:\n",
    "        g = '30-44'\n",
    "    elif x >= 45 and x <= 59:\n",
    "        g = '45-59'\n",
    "    elif x >= 60 and x <= 74:\n",
    "        g = '60-74'\n",
    "    elif x >= 75:\n",
    "        g = '>= 75'\n",
    "    return g\n",
    "\n",
    "def groupNationality(x) :\n",
    "    if x == 'Russian':\n",
    "        x = 'Other'\n",
    "    return x"
   ]
  },
  {
   "cell_type": "code",
   "execution_count": 162,
   "id": "df0205b4-0869-4151-8709-a475b71219b9",
   "metadata": {},
   "outputs": [],
   "source": [
    "df[\"CodeGroup\"] = df['Code'].apply(groupCode)\n",
    "df[\"StageGroup\"] = df['Stage'].apply(groupStage)\n",
    "df[\"Period\"] = df['Year'].apply(groupPeriod)\n",
    "df[\"AgeGroup\"] = df['Age'].apply(groupAge)\n",
    "df[\"Nationality\"] = df['Nationality'].apply(groupNationality)\n",
    "df = df.replace(['Unknown', 'unknown', 9], None)\n",
    "df = df.drop(\"Dgnstat\", axis=1)"
   ]
  },
  {
   "cell_type": "code",
   "execution_count": 163,
   "id": "e20851f8-5370-4818-8d9c-b0b66058429d",
   "metadata": {},
   "outputs": [
    {
     "data": {
      "text/html": [
       "<div>\n",
       "<style scoped>\n",
       "    .dataframe tbody tr th:only-of-type {\n",
       "        vertical-align: middle;\n",
       "    }\n",
       "\n",
       "    .dataframe tbody tr th {\n",
       "        vertical-align: top;\n",
       "    }\n",
       "\n",
       "    .dataframe thead th {\n",
       "        text-align: right;\n",
       "    }\n",
       "</style>\n",
       "<table border=\"1\" class=\"dataframe\">\n",
       "  <thead>\n",
       "    <tr style=\"text-align: right;\">\n",
       "      <th></th>\n",
       "      <th>Code</th>\n",
       "      <th>Year</th>\n",
       "      <th>Nationality</th>\n",
       "      <th>Marital Status</th>\n",
       "      <th>Education</th>\n",
       "      <th>Residence</th>\n",
       "      <th>Age</th>\n",
       "      <th>Stage</th>\n",
       "      <th>CodeGroup</th>\n",
       "      <th>StageGroup</th>\n",
       "      <th>Period</th>\n",
       "      <th>AgeGroup</th>\n",
       "    </tr>\n",
       "  </thead>\n",
       "  <tbody>\n",
       "    <tr>\n",
       "      <th>0</th>\n",
       "      <td>82623</td>\n",
       "      <td>2015</td>\n",
       "      <td>Estonian</td>\n",
       "      <td>married</td>\n",
       "      <td>University&amp;higher</td>\n",
       "      <td>South</td>\n",
       "      <td>33</td>\n",
       "      <td>None</td>\n",
       "      <td>AC</td>\n",
       "      <td>None</td>\n",
       "      <td>2015-2018</td>\n",
       "      <td>30-44</td>\n",
       "    </tr>\n",
       "    <tr>\n",
       "      <th>1</th>\n",
       "      <td>89803</td>\n",
       "      <td>2008</td>\n",
       "      <td>Estonian</td>\n",
       "      <td>widow</td>\n",
       "      <td>Secondary</td>\n",
       "      <td>North</td>\n",
       "      <td>65</td>\n",
       "      <td>3</td>\n",
       "      <td>AC</td>\n",
       "      <td>1</td>\n",
       "      <td>2007-2010</td>\n",
       "      <td>60-74</td>\n",
       "    </tr>\n",
       "    <tr>\n",
       "      <th>3</th>\n",
       "      <td>80703</td>\n",
       "      <td>2014</td>\n",
       "      <td>Estonian</td>\n",
       "      <td>divorced</td>\n",
       "      <td>Basic&amp;Primary</td>\n",
       "      <td>South</td>\n",
       "      <td>44</td>\n",
       "      <td>None</td>\n",
       "      <td>SCC</td>\n",
       "      <td>None</td>\n",
       "      <td>2011-2014</td>\n",
       "      <td>30-44</td>\n",
       "    </tr>\n",
       "    <tr>\n",
       "      <th>4</th>\n",
       "      <td>80713</td>\n",
       "      <td>2015</td>\n",
       "      <td>Estonian</td>\n",
       "      <td>single</td>\n",
       "      <td>Secondary</td>\n",
       "      <td>Central</td>\n",
       "      <td>52</td>\n",
       "      <td>None</td>\n",
       "      <td>SCC</td>\n",
       "      <td>None</td>\n",
       "      <td>2015-2018</td>\n",
       "      <td>45-59</td>\n",
       "    </tr>\n",
       "    <tr>\n",
       "      <th>5</th>\n",
       "      <td>80713</td>\n",
       "      <td>2013</td>\n",
       "      <td>Other</td>\n",
       "      <td>divorced</td>\n",
       "      <td>Secondary</td>\n",
       "      <td>North-East</td>\n",
       "      <td>48</td>\n",
       "      <td>None</td>\n",
       "      <td>SCC</td>\n",
       "      <td>None</td>\n",
       "      <td>2011-2014</td>\n",
       "      <td>45-59</td>\n",
       "    </tr>\n",
       "  </tbody>\n",
       "</table>\n",
       "</div>"
      ],
      "text/plain": [
       "    Code  Year Nationality Marital Status          Education   Residence Age  \\\n",
       "0  82623  2015    Estonian        married  University&higher       South  33   \n",
       "1  89803  2008    Estonian          widow          Secondary       North  65   \n",
       "3  80703  2014    Estonian       divorced      Basic&Primary       South  44   \n",
       "4  80713  2015    Estonian         single          Secondary     Central  52   \n",
       "5  80713  2013       Other       divorced          Secondary  North-East  48   \n",
       "\n",
       "  Stage CodeGroup StageGroup     Period AgeGroup  \n",
       "0  None        AC       None  2015-2018    30-44  \n",
       "1     3        AC          1  2007-2010    60-74  \n",
       "3  None       SCC       None  2011-2014    30-44  \n",
       "4  None       SCC       None  2015-2018    45-59  \n",
       "5  None       SCC       None  2011-2014    45-59  "
      ]
     },
     "execution_count": 163,
     "metadata": {},
     "output_type": "execute_result"
    }
   ],
   "source": [
    "df.head()"
   ]
  },
  {
   "cell_type": "code",
   "execution_count": 164,
   "id": "c22988eb-7a9f-4c08-8eae-8eeb850625e7",
   "metadata": {},
   "outputs": [],
   "source": [
    "df.to_csv('prepared_data.csv', index=False)"
   ]
  },
  {
   "cell_type": "code",
   "execution_count": 165,
   "id": "b8b660fc-4516-43f3-b08e-ee3b909a01bf",
   "metadata": {},
   "outputs": [
    {
     "data": {
      "text/plain": [
       "array(['Estonian', 'Other', None], dtype=object)"
      ]
     },
     "execution_count": 165,
     "metadata": {},
     "output_type": "execute_result"
    }
   ],
   "source": [
    "df.Nationality.unique()"
   ]
  },
  {
   "cell_type": "code",
   "execution_count": 166,
   "id": "cc895968-0182-4d82-b67c-e53baafa7744",
   "metadata": {},
   "outputs": [
    {
     "data": {
      "text/plain": [
       "array(['University&higher', 'Secondary', 'Basic&Primary',\n",
       "       'Secondary_vocational', None], dtype=object)"
      ]
     },
     "execution_count": 166,
     "metadata": {},
     "output_type": "execute_result"
    }
   ],
   "source": [
    "df.Education.unique()"
   ]
  },
  {
   "cell_type": "code",
   "execution_count": 167,
   "id": "2ee51bf9-8ff3-4d3b-b001-b056dd014f2a",
   "metadata": {},
   "outputs": [
    {
     "data": {
      "text/plain": [
       "array(['South', 'North', 'Central', 'North-East', 'West'], dtype=object)"
      ]
     },
     "execution_count": 167,
     "metadata": {},
     "output_type": "execute_result"
    }
   ],
   "source": [
    "df.Residence.unique()"
   ]
  },
  {
   "cell_type": "code",
   "execution_count": 168,
   "id": "5fef5df8-a78f-45db-89f8-03d3923b6f6d",
   "metadata": {},
   "outputs": [
    {
     "data": {
      "text/plain": [
       "array(['2015-2018', '2007-2010', '2011-2014'], dtype=object)"
      ]
     },
     "execution_count": 168,
     "metadata": {},
     "output_type": "execute_result"
    }
   ],
   "source": [
    "df.Period.unique()"
   ]
  },
  {
   "cell_type": "code",
   "execution_count": 169,
   "id": "b049567c-8c03-4257-96e9-dc2b511acd1c",
   "metadata": {},
   "outputs": [
    {
     "data": {
      "text/plain": [
       "array(['30-44', '60-74', '45-59', '>= 75', '<= 29'], dtype=object)"
      ]
     },
     "execution_count": 169,
     "metadata": {},
     "output_type": "execute_result"
    }
   ],
   "source": [
    "df.AgeGroup.unique()"
   ]
  },
  {
   "cell_type": "code",
   "execution_count": 170,
   "id": "69451aff-efa0-4e10-a67c-daa8bbcdc247",
   "metadata": {},
   "outputs": [
    {
     "data": {
      "text/plain": [
       "array(['2015-2018', '2007-2010', '2011-2014'], dtype=object)"
      ]
     },
     "execution_count": 170,
     "metadata": {},
     "output_type": "execute_result"
    }
   ],
   "source": [
    "df.Period.unique()"
   ]
  },
  {
   "cell_type": "code",
   "execution_count": 171,
   "id": "b4ec6745-5c37-4047-abae-6d8274a9454d",
   "metadata": {},
   "outputs": [
    {
     "data": {
      "text/plain": [
       "array(['AC', 'SCC', None], dtype=object)"
      ]
     },
     "execution_count": 171,
     "metadata": {},
     "output_type": "execute_result"
    }
   ],
   "source": [
    "df['CodeGroup'].unique()"
   ]
  },
  {
   "cell_type": "code",
   "execution_count": 172,
   "id": "25013f5b-9679-4a6b-a1c7-2daeb6202f03",
   "metadata": {},
   "outputs": [
    {
     "data": {
      "text/plain": [
       "array([None, 1, 0], dtype=object)"
      ]
     },
     "execution_count": 172,
     "metadata": {},
     "output_type": "execute_result"
    }
   ],
   "source": [
    "df['StageGroup'].unique()"
   ]
  },
  {
   "cell_type": "code",
   "execution_count": null,
   "id": "d5f91f2c-f1ba-499e-bfa9-f96fc701e58c",
   "metadata": {},
   "outputs": [],
   "source": []
  },
  {
   "cell_type": "code",
   "execution_count": null,
   "id": "bed29207-7e97-4ed4-bf29-22921b7e7264",
   "metadata": {},
   "outputs": [],
   "source": []
  }
 ],
 "metadata": {
  "kernelspec": {
   "display_name": "Python 3 (ipykernel)",
   "language": "python",
   "name": "python3"
  },
  "language_info": {
   "codemirror_mode": {
    "name": "ipython",
    "version": 3
   },
   "file_extension": ".py",
   "mimetype": "text/x-python",
   "name": "python",
   "nbconvert_exporter": "python",
   "pygments_lexer": "ipython3",
   "version": "3.10.6"
  }
 },
 "nbformat": 4,
 "nbformat_minor": 5
}
