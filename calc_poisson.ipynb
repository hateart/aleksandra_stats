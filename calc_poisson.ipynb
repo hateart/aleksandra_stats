{
 "cells": [
  {
   "cell_type": "code",
   "execution_count": 1,
   "id": "285f9003-e2d9-493e-885c-495f8b3d410c",
   "metadata": {},
   "outputs": [],
   "source": [
    "import pandas as pd\n",
    "import statsmodels.api as sm\n",
    "import numpy as np"
   ]
  },
  {
   "cell_type": "code",
   "execution_count": 2,
   "id": "0147976f-a750-45ed-974a-d968f93a4014",
   "metadata": {},
   "outputs": [],
   "source": [
    "final = pd.read_csv(\"./data_for_poisson.csv\", index_col=False)"
   ]
  },
  {
   "cell_type": "code",
   "execution_count": 27,
   "id": "4eee96d2-9f5f-4f06-aff2-d6b149d838c5",
   "metadata": {},
   "outputs": [],
   "source": [
    "def get_model_result(X, y):\n",
    "    exog = sm.add_constant(X)\n",
    "    poission_model = sm.GLM(y, exog, family=sm.families.Poisson(link=sm.families.links.log()))\n",
    "    result = poission_model.fit(cov_type=\"hc1\")\n",
    "    return result\n",
    "def get_prr(result):\n",
    "    body = pd.read_html(result.summary2().as_html())[1]\n",
    "    names = body[0].drop(0)\n",
    "    names = names.reset_index(drop=True)\n",
    "    body = body[1].drop(0)\n",
    "    #print(names)\n",
    "    body = body.astype(float)\n",
    "    odds = np.exp(body)\n",
    "    odds = odds.reset_index(drop=True)\n",
    "    return odds"
   ]
  },
  {
   "cell_type": "code",
   "execution_count": 4,
   "id": "bc18f2eb-9893-4d05-bfe6-05210b7c0b5c",
   "metadata": {},
   "outputs": [],
   "source": [
    "#SINGLE"
   ]
  },
  {
   "cell_type": "code",
   "execution_count": 5,
   "id": "0536c547-455e-40e6-ad75-26ae1406da33",
   "metadata": {},
   "outputs": [
    {
     "name": "stdout",
     "output_type": "stream",
     "text": [
      "                             0         1\n",
      "const                 0.423496  0.540810\n",
      "Basic&Primary         1.246034  1.653617\n",
      "Secondary             1.079879  1.422003\n",
      "Secondary_vocational  0.986985  1.350242\n"
     ]
    }
   ],
   "source": [
    "y = final.StageGroup\n",
    "X = final[['Basic&Primary','Secondary', 'Secondary_vocational', 'University&higher']].copy()\n",
    "X = X.drop(\"University&higher\", axis=1)\n",
    "result = get_model_result(X, y)\n",
    "log_odds = result.conf_int(alpha=0.05)\n",
    "odds = np.exp(log_odds)\n",
    "print(odds)"
   ]
  },
  {
   "cell_type": "code",
   "execution_count": 6,
   "id": "bb05555f-7104-4ff1-8969-c854bff63703",
   "metadata": {},
   "outputs": [
    {
     "name": "stdout",
     "output_type": "stream",
     "text": [
      "                 Generalized Linear Model Regression Results                  \n",
      "==============================================================================\n",
      "Dep. Variable:             StageGroup   No. Observations:                 1610\n",
      "Model:                            GLM   Df Residuals:                     1606\n",
      "Model Family:                 Poisson   Df Model:                            3\n",
      "Link Function:                    log   Scale:                          1.0000\n",
      "Method:                          IRLS   Log-Likelihood:                -1440.8\n",
      "Date:                Sun, 15 Jan 2023   Deviance:                       997.54\n",
      "Time:                        15:57:37   Pearson chi2:                     668.\n",
      "No. Iterations:                     5   Pseudo R-squ. (CS):           0.007584\n",
      "Covariance Type:                  hc0                                         \n",
      "========================================================================================\n",
      "                           coef    std err          z      P>|z|      [0.025      0.975]\n",
      "----------------------------------------------------------------------------------------\n",
      "const                   -0.7369      0.062    -11.814      0.000      -0.859      -0.615\n",
      "Basic&Primary            0.3615      0.072      5.007      0.000       0.220       0.503\n",
      "Secondary                0.2145      0.070      3.055      0.002       0.077       0.352\n",
      "Secondary_vocational     0.1436      0.080      1.796      0.072      -0.013       0.300\n",
      "========================================================================================\n"
     ]
    }
   ],
   "source": [
    "print(result.summary())"
   ]
  },
  {
   "cell_type": "code",
   "execution_count": 7,
   "id": "5787d396-f332-4293-bc05-989515411a49",
   "metadata": {},
   "outputs": [],
   "source": [
    "odd = get_prr(result)"
   ]
  },
  {
   "cell_type": "code",
   "execution_count": 8,
   "id": "2e0e9d71-dcb8-4470-a39a-5913c8ce069d",
   "metadata": {},
   "outputs": [
    {
     "data": {
      "text/plain": [
       "0    0.478595\n",
       "1    1.435481\n",
       "2    1.239242\n",
       "3    1.154422\n",
       "Name: 1, dtype: float64"
      ]
     },
     "execution_count": 8,
     "metadata": {},
     "output_type": "execute_result"
    }
   ],
   "source": [
    "odd"
   ]
  },
  {
   "cell_type": "code",
   "execution_count": 9,
   "id": "3301bb40-9d45-41be-af32-7e1533929199",
   "metadata": {},
   "outputs": [],
   "source": [
    "#MULTI"
   ]
  },
  {
   "cell_type": "code",
   "execution_count": 10,
   "id": "694a3e20-1483-4bcd-b802-d32852f321ae",
   "metadata": {},
   "outputs": [
    {
     "name": "stdout",
     "output_type": "stream",
     "text": [
      "                             0         1\n",
      "const                 0.000000       inf\n",
      "Basic&Primary         1.063743  1.563293\n",
      "Secondary             1.003339  1.377174\n",
      "Secondary_vocational  0.911141  1.303204\n",
      "divorced              0.000000       inf\n",
      "married               0.000000       inf\n",
      "single                0.000000       inf\n",
      "widow                 0.000000       inf\n",
      "30-44                 0.000000       inf\n",
      "45-59                 0.000000       inf\n",
      "60-74                 0.000000       inf\n",
      "<= 29                 0.000000       inf\n",
      ">= 75                 0.000000       inf\n",
      "Estonian              0.000000       inf\n",
      "Other                 0.000000       inf\n",
      "Russian               0.000000       inf\n",
      "Central               0.000000       inf\n",
      "North                 0.000000       inf\n",
      "North-East            0.000000       inf\n",
      "South                 0.000000       inf\n",
      "West                  0.000000       inf\n",
      "AC                         NaN       NaN\n",
      "SCC                        NaN       NaN\n"
     ]
    },
    {
     "name": "stderr",
     "output_type": "stream",
     "text": [
      "/opt/conda/lib/python3.10/site-packages/pandas/core/internals/blocks.py:352: RuntimeWarning: overflow encountered in exp\n",
      "  result = func(self.values, **kwargs)\n"
     ]
    }
   ],
   "source": [
    "X = final\n",
    "X = X.drop(\"StageGroup\", axis=1)\n",
    "X = X.drop(\"University&higher\", axis=1)\n",
    "result = get_model_result(X, y)\n",
    "log_odds = result.conf_int(alpha=0.05)\n",
    "odds = np.exp(log_odds)\n",
    "print(odds)"
   ]
  },
  {
   "cell_type": "code",
   "execution_count": 11,
   "id": "86a9c42a-11ae-4b1f-b860-19588164b50a",
   "metadata": {},
   "outputs": [
    {
     "name": "stdout",
     "output_type": "stream",
     "text": [
      "                             0         1\n",
      "const                 0.000000       inf\n",
      "Basic&Primary         1.063743  1.563293\n",
      "Secondary             1.003339  1.377174\n",
      "Secondary_vocational  0.911141  1.303204\n",
      "divorced              0.000000       inf\n",
      "married               0.000000       inf\n",
      "single                0.000000       inf\n",
      "widow                 0.000000       inf\n",
      "30-44                 0.000000       inf\n",
      "45-59                 0.000000       inf\n",
      "60-74                 0.000000       inf\n",
      "<= 29                 0.000000       inf\n",
      ">= 75                 0.000000       inf\n",
      "Estonian              0.000000       inf\n",
      "Other                 0.000000       inf\n",
      "Russian               0.000000       inf\n",
      "Central               0.000000       inf\n",
      "North                 0.000000       inf\n",
      "North-East            0.000000       inf\n",
      "South                 0.000000       inf\n",
      "West                  0.000000       inf\n",
      "AC                         NaN       NaN\n",
      "SCC                        NaN       NaN\n"
     ]
    }
   ],
   "source": [
    "odd = get_prr(result)\n",
    "print(odds)"
   ]
  },
  {
   "cell_type": "code",
   "execution_count": 12,
   "id": "9bf657e7-6edb-4147-9635-0448c9638915",
   "metadata": {},
   "outputs": [
    {
     "name": "stdout",
     "output_type": "stream",
     "text": [
      "                 Generalized Linear Model Regression Results                  \n",
      "==============================================================================\n",
      "Dep. Variable:             StageGroup   No. Observations:                 1610\n",
      "Model:                            GLM   Df Residuals:                     1592\n",
      "Model Family:                 Poisson   Df Model:                           17\n",
      "Link Function:                    log   Scale:                          1.0000\n",
      "Method:                          IRLS   Log-Likelihood:                -1405.2\n",
      "Date:                Sun, 15 Jan 2023   Deviance:                       926.48\n",
      "Time:                        15:57:38   Pearson chi2:                     665.\n",
      "No. Iterations:                   100   Pseudo R-squ. (CS):            0.05043\n",
      "Covariance Type:                  hc0                                         \n",
      "========================================================================================\n",
      "                           coef    std err          z      P>|z|      [0.025      0.975]\n",
      "----------------------------------------------------------------------------------------\n",
      "const                   -0.3364   2.11e+13   -1.6e-14      1.000   -4.13e+13    4.13e+13\n",
      "Basic&Primary            0.2543      0.098      2.589      0.010       0.062       0.447\n",
      "Secondary                0.1617      0.081      2.001      0.045       0.003       0.320\n",
      "Secondary_vocational     0.0859      0.091      0.941      0.347      -0.093       0.265\n",
      "divorced                -0.0754   3.67e+13  -2.05e-15      1.000    -7.2e+13     7.2e+13\n",
      "married                 -0.1162   3.67e+13  -3.16e-15      1.000    -7.2e+13     7.2e+13\n",
      "single                   0.0157   3.67e+13   4.27e-16      1.000    -7.2e+13     7.2e+13\n",
      "widow                   -0.1606   3.67e+13  -4.37e-15      1.000    -7.2e+13     7.2e+13\n",
      "30-44                   -0.3530   3.01e+13  -1.17e-14      1.000    -5.9e+13     5.9e+13\n",
      "45-59                    0.0813   3.01e+13    2.7e-15      1.000    -5.9e+13     5.9e+13\n",
      "60-74                    0.3001   3.01e+13   9.97e-15      1.000    -5.9e+13     5.9e+13\n",
      "<= 29                   -0.8017   3.01e+13  -2.66e-14      1.000    -5.9e+13     5.9e+13\n",
      ">= 75                    0.4369   3.01e+13   1.45e-14      1.000    -5.9e+13     5.9e+13\n",
      "Estonian                -0.1187   1.52e+13  -7.81e-15      1.000   -2.98e+13    2.98e+13\n",
      "Other                   -0.1577   1.52e+13  -1.04e-14      1.000   -2.98e+13    2.98e+13\n",
      "Russian                 -0.0600   1.52e+13  -3.94e-15      1.000   -2.98e+13    2.98e+13\n",
      "Central                 -0.1099   1.02e+13  -1.08e-14      1.000   -1.99e+13    1.99e+13\n",
      "North                   -0.0447   1.02e+13   -4.4e-15      1.000   -1.99e+13    1.99e+13\n",
      "North-East              -0.0286   1.02e+13  -2.82e-15      1.000   -1.99e+13    1.99e+13\n",
      "South                   -0.1292   1.02e+13  -1.27e-14      1.000   -1.99e+13    1.99e+13\n",
      "West                    -0.0241   1.02e+13  -2.38e-15      1.000   -1.99e+13    1.99e+13\n",
      "AC                      -0.1892        nan        nan        nan         nan         nan\n",
      "SCC                     -0.1472        nan        nan        nan         nan         nan\n",
      "========================================================================================\n"
     ]
    }
   ],
   "source": [
    "print(result.summary())"
   ]
  },
  {
   "cell_type": "code",
   "execution_count": 28,
   "id": "22f4b834-7215-4403-add5-f943d792806c",
   "metadata": {},
   "outputs": [
    {
     "name": "stdout",
     "output_type": "stream",
     "text": [
      "                             0         1\n",
      "const                 0.000000       inf\n",
      "Basic&Primary         0.000000       inf\n",
      "Secondary             0.000000       inf\n",
      "Secondary_vocational  0.000000       inf\n",
      "University&higher     0.000000       inf\n",
      "divorced              0.933639  1.165324\n",
      "single                0.990909  1.312964\n",
      "widow                 0.839840  1.085647\n",
      "30-44                 0.000000       inf\n",
      "45-59                 0.000000       inf\n",
      "60-74                 0.000000       inf\n",
      "<= 29                 0.000000       inf\n",
      ">= 75                 0.000000       inf\n",
      "Estonian              0.000000       inf\n",
      "Other                 0.000000       inf\n",
      "Russian               0.000000       inf\n",
      "Central               0.000000       inf\n",
      "North                 0.000000       inf\n",
      "North-East            0.000000       inf\n",
      "South                 0.000000       inf\n",
      "West                  0.000000       inf\n",
      "AC                         NaN       NaN\n",
      "SCC                   0.000000  0.000000\n"
     ]
    },
    {
     "name": "stderr",
     "output_type": "stream",
     "text": [
      "/opt/conda/lib/python3.10/site-packages/pandas/core/internals/blocks.py:352: RuntimeWarning: overflow encountered in exp\n",
      "  result = func(self.values, **kwargs)\n"
     ]
    }
   ],
   "source": [
    "X = final\n",
    "X = X.drop(\"StageGroup\", axis=1)\n",
    "X = X.drop(\"married\", axis=1)\n",
    "result = get_model_result(X, y)\n",
    "log_odds = result.conf_int(alpha=0.05)\n",
    "odds = np.exp(log_odds)\n",
    "print(odds)"
   ]
  },
  {
   "cell_type": "code",
   "execution_count": 16,
   "id": "d6c6ffa3-a9f1-4444-a3cb-ced17450c783",
   "metadata": {},
   "outputs": [
    {
     "name": "stdout",
     "output_type": "stream",
     "text": [
      "                 Generalized Linear Model Regression Results                  \n",
      "==============================================================================\n",
      "Dep. Variable:             StageGroup   No. Observations:                 1610\n",
      "Model:                            GLM   Df Residuals:                     1592\n",
      "Model Family:                 Poisson   Df Model:                           17\n",
      "Link Function:                    log   Scale:                          1.0000\n",
      "Method:                          IRLS   Log-Likelihood:                -1405.3\n",
      "Date:                Sun, 15 Jan 2023   Deviance:                       926.56\n",
      "Time:                        16:01:55   Pearson chi2:                     671.\n",
      "No. Iterations:                   100   Pseudo R-squ. (CS):            0.05038\n",
      "Covariance Type:                  hc0                                         \n",
      "========================================================================================\n",
      "                           coef    std err          z      P>|z|      [0.025      0.975]\n",
      "----------------------------------------------------------------------------------------\n",
      "const                 2.914e+12   8.89e+12      0.328      0.743   -1.45e+13    2.03e+13\n",
      "Basic&Primary        -5.081e+11   7.71e+13     -0.007      0.995   -1.52e+14    1.51e+14\n",
      "Secondary            -5.081e+11   7.71e+13     -0.007      0.995   -1.52e+14    1.51e+14\n",
      "Secondary_vocational -5.081e+11   7.71e+13     -0.007      0.995   -1.52e+14    1.51e+14\n",
      "University&higher    -5.081e+11   7.71e+13     -0.007      0.995   -1.52e+14    1.51e+14\n",
      "divorced                 0.0422      0.057      0.746      0.456      -0.069       0.153\n",
      "single                   0.1316      0.072      1.833      0.067      -0.009       0.272\n",
      "widow                   -0.0462      0.065     -0.705      0.481      -0.175       0.082\n",
      "30-44                -3.828e+11   8.67e+13     -0.004      0.996    -1.7e+14     1.7e+14\n",
      "45-59                -3.828e+11   8.67e+13     -0.004      0.996    -1.7e+14     1.7e+14\n",
      "60-74                -3.828e+11   8.67e+13     -0.004      0.996    -1.7e+14     1.7e+14\n",
      "<= 29                -3.828e+11   8.67e+13     -0.004      0.996    -1.7e+14     1.7e+14\n",
      ">= 75                -3.828e+11   8.67e+13     -0.004      0.996    -1.7e+14     1.7e+14\n",
      "Estonian             -6.517e+11   1.06e+13     -0.062      0.951   -2.14e+13    2.01e+13\n",
      "Other                -6.517e+11   1.06e+13     -0.062      0.951   -2.14e+13    2.01e+13\n",
      "Russian              -6.517e+11   1.06e+13     -0.062      0.951   -2.14e+13    2.01e+13\n",
      "Central              -3.948e+11   2.24e+12     -0.177      0.860   -4.78e+12    3.99e+12\n",
      "North                -3.948e+11   2.24e+12     -0.177      0.860   -4.78e+12    3.99e+12\n",
      "North-East           -3.948e+11   2.24e+12     -0.177      0.860   -4.78e+12    3.99e+12\n",
      "South                -3.948e+11   2.24e+12     -0.177      0.860   -4.78e+12    3.99e+12\n",
      "West                 -3.948e+11   2.24e+12     -0.177      0.860   -4.78e+12    3.99e+12\n",
      "AC                   -9.761e+11        nan        nan        nan         nan         nan\n",
      "SCC                  -9.761e+11    8.2e+05  -1.19e+06      0.000   -9.76e+11   -9.76e+11\n",
      "========================================================================================\n"
     ]
    }
   ],
   "source": [
    "print(result.summary())"
   ]
  },
  {
   "cell_type": "code",
   "execution_count": null,
   "id": "c3cf6ab5-c2d0-4389-a351-872735dcf890",
   "metadata": {},
   "outputs": [],
   "source": []
  }
 ],
 "metadata": {
  "kernelspec": {
   "display_name": "Python 3 (ipykernel)",
   "language": "python",
   "name": "python3"
  },
  "language_info": {
   "codemirror_mode": {
    "name": "ipython",
    "version": 3
   },
   "file_extension": ".py",
   "mimetype": "text/x-python",
   "name": "python",
   "nbconvert_exporter": "python",
   "pygments_lexer": "ipython3",
   "version": "3.10.6"
  }
 },
 "nbformat": 4,
 "nbformat_minor": 5
}
