{
 "cells": [
  {
   "cell_type": "code",
   "execution_count": 364,
   "id": "285f9003-e2d9-493e-885c-495f8b3d410c",
   "metadata": {},
   "outputs": [],
   "source": [
    "import pandas as pd\n",
    "import statsmodels.api as sm\n",
    "import numpy as np"
   ]
  },
  {
   "cell_type": "code",
   "execution_count": 365,
   "id": "0147976f-a750-45ed-974a-d968f93a4014",
   "metadata": {},
   "outputs": [],
   "source": [
    "final = pd.read_csv(\"./data_for_poisson.csv\", index_col=False)"
   ]
  },
  {
   "cell_type": "code",
   "execution_count": 366,
   "id": "4eee96d2-9f5f-4f06-aff2-d6b149d838c5",
   "metadata": {},
   "outputs": [],
   "source": [
    "def get_model_result(X, y):\n",
    "    exog = sm.add_constant(X)\n",
    "    poission_model = sm.GLM(y, exog, family=sm.families.Poisson(link=sm.families.links.log()))\n",
    "    #cov_type=\"HC2\"\n",
    "    result = poission_model.fit(cov_type=\"HC1\")\n",
    "    return result\n",
    "def get_prr(result):\n",
    "    body = pd.read_html(result.summary2().as_html())[1]\n",
    "    names = body[0].drop(0)\n",
    "    names = names.reset_index(drop=True)\n",
    "    body = body[1].drop(0)\n",
    "    print(names)\n",
    "    body = body.astype(float)\n",
    "    odds = np.exp(body)\n",
    "    odds = odds.reset_index(drop=True)\n",
    "    return odds"
   ]
  },
  {
   "cell_type": "code",
   "execution_count": 367,
   "id": "bc18f2eb-9893-4d05-bfe6-05210b7c0b5c",
   "metadata": {},
   "outputs": [],
   "source": [
    "#SINGLE"
   ]
  },
  {
   "cell_type": "code",
   "execution_count": 368,
   "id": "0536c547-455e-40e6-ad75-26ae1406da33",
   "metadata": {},
   "outputs": [
    {
     "name": "stdout",
     "output_type": "stream",
     "text": [
      "                             0         1\n",
      "const                 0.521442  0.614168\n",
      "Basic&Primary         1.110810  1.371169\n",
      "Secondary             0.959821  1.175558\n",
      "Secondary_vocational  0.890292  1.138596\n"
     ]
    }
   ],
   "source": [
    "y = final.StageGroup\n",
    "X = final[['Basic&Primary','Secondary', 'Secondary_vocational', 'University&higher']].copy()\n",
    "X = X.drop(\"University&higher\", axis=1)\n",
    "result = get_model_result(X, y)\n",
    "log_odds = result.conf_int(alpha=0.05)\n",
    "odds = np.exp(log_odds)\n",
    "print(odds)"
   ]
  },
  {
   "cell_type": "code",
   "execution_count": 369,
   "id": "bb05555f-7104-4ff1-8969-c854bff63703",
   "metadata": {},
   "outputs": [
    {
     "name": "stdout",
     "output_type": "stream",
     "text": [
      "                 Generalized Linear Model Regression Results                  \n",
      "==============================================================================\n",
      "Dep. Variable:             StageGroup   No. Observations:                 1874\n",
      "Model:                            GLM   Df Residuals:                     1870\n",
      "Model Family:                 Poisson   Df Model:                            3\n",
      "Link Function:                    log   Scale:                          1.0000\n",
      "Method:                          IRLS   Log-Likelihood:                -1701.6\n",
      "Date:                Wed, 01 Mar 2023   Deviance:                       1129.2\n",
      "Time:                        16:18:45   Pearson chi2:                     737.\n",
      "No. Iterations:                     5   Pseudo R-squ. (CS):           0.003758\n",
      "Covariance Type:                  HC1                                         \n",
      "========================================================================================\n",
      "                           coef    std err          z      P>|z|      [0.025      0.975]\n",
      "----------------------------------------------------------------------------------------\n",
      "const                   -0.5693      0.042    -13.635      0.000      -0.651      -0.487\n",
      "Basic&Primary            0.2104      0.054      3.916      0.000       0.105       0.316\n",
      "Secondary                0.0604      0.052      1.167      0.243      -0.041       0.162\n",
      "Secondary_vocational     0.0068      0.063      0.108      0.914      -0.116       0.130\n",
      "========================================================================================\n"
     ]
    }
   ],
   "source": [
    "print(result.summary())"
   ]
  },
  {
   "cell_type": "code",
   "execution_count": 370,
   "id": "5787d396-f332-4293-bc05-989515411a49",
   "metadata": {},
   "outputs": [
    {
     "name": "stdout",
     "output_type": "stream",
     "text": [
      "0                   const\n",
      "1           Basic&Primary\n",
      "2               Secondary\n",
      "3    Secondary_vocational\n",
      "Name: 0, dtype: object\n"
     ]
    },
    {
     "data": {
      "text/plain": [
       "0    0.565921\n",
       "1    1.234172\n",
       "2    1.062261\n",
       "3    1.006823\n",
       "Name: 1, dtype: float64"
      ]
     },
     "execution_count": 370,
     "metadata": {},
     "output_type": "execute_result"
    }
   ],
   "source": [
    "odd = get_prr(result) \n",
    "odd"
   ]
  },
  {
   "cell_type": "code",
   "execution_count": 371,
   "id": "2e0e9d71-dcb8-4470-a39a-5913c8ce069d",
   "metadata": {},
   "outputs": [],
   "source": [
    "#result.summary2()"
   ]
  },
  {
   "cell_type": "code",
   "execution_count": 372,
   "id": "ba22ffe3-4899-4725-9b3f-788308c96b72",
   "metadata": {},
   "outputs": [
    {
     "name": "stdout",
     "output_type": "stream",
     "text": [
      "                 0         1\n",
      "const     0.517722  0.595030\n",
      "divorced  1.019434  1.234613\n",
      "widow     1.159971  1.404534\n",
      "single    0.909901  1.149227\n"
     ]
    }
   ],
   "source": [
    "X = final[['married','divorced', 'widow', 'single']].copy()\n",
    "X = X.drop(\"married\", axis=1)\n",
    "result = get_model_result(X, y)\n",
    "log_odds = result.conf_int(alpha=0.05)\n",
    "odds = np.exp(log_odds)\n",
    "print(odds)\n"
   ]
  },
  {
   "cell_type": "code",
   "execution_count": 373,
   "id": "1453ece2-e9c2-415f-8b42-847c2c8d1053",
   "metadata": {},
   "outputs": [
    {
     "name": "stdout",
     "output_type": "stream",
     "text": [
      "0       const\n",
      "1    divorced\n",
      "2       widow\n",
      "3      single\n",
      "Name: 0, dtype: object\n"
     ]
    },
    {
     "data": {
      "text/plain": [
       "0    0.555048\n",
       "1    1.121873\n",
       "2    1.276472\n",
       "3    1.022551\n",
       "Name: 1, dtype: float64"
      ]
     },
     "execution_count": 373,
     "metadata": {},
     "output_type": "execute_result"
    }
   ],
   "source": [
    "odd = get_prr(result) \n",
    "odd"
   ]
  },
  {
   "cell_type": "code",
   "execution_count": 374,
   "id": "e8a911a8-0f07-49d5-aca8-3b35d14f9adf",
   "metadata": {},
   "outputs": [
    {
     "name": "stdout",
     "output_type": "stream",
     "text": [
      "                   0         1\n",
      "const       0.582698  0.652286\n",
      "South       0.830730  1.013196\n",
      "North-East  0.925998  1.162462\n",
      "Central     0.849996  1.090137\n",
      "West        0.918516  1.146470\n"
     ]
    }
   ],
   "source": [
    "X = final[['South','North-East', 'Central', 'West', 'North']].copy()\n",
    "X = X.drop(\"North\", axis=1)\n",
    "result = get_model_result(X, y)\n",
    "log_odds = result.conf_int(alpha=0.05)\n",
    "odds = np.exp(log_odds)\n",
    "print(odds)"
   ]
  },
  {
   "cell_type": "code",
   "execution_count": 375,
   "id": "c89f4a83-ea90-469a-a365-c08128ddb5e1",
   "metadata": {},
   "outputs": [
    {
     "name": "stdout",
     "output_type": "stream",
     "text": [
      "0         const\n",
      "1         South\n",
      "2    North-East\n",
      "3       Central\n",
      "4          West\n",
      "Name: 0, dtype: object\n"
     ]
    },
    {
     "data": {
      "text/plain": [
       "0    0.616498\n",
       "1    0.917411\n",
       "2    1.037486\n",
       "3    0.962617\n",
       "4    1.026136\n",
       "Name: 1, dtype: float64"
      ]
     },
     "execution_count": 375,
     "metadata": {},
     "output_type": "execute_result"
    }
   ],
   "source": [
    "odd = get_prr(result) \n",
    "odd"
   ]
  },
  {
   "cell_type": "code",
   "execution_count": 376,
   "id": "28a7d813-7415-45d9-bd36-767d941f6828",
   "metadata": {},
   "outputs": [
    {
     "name": "stdout",
     "output_type": "stream",
     "text": [
      "              0         1\n",
      "const  0.353666  0.443538\n",
      "<= 29  0.497755  1.139220\n",
      "45-59  1.347455  1.741586\n",
      "60-74  1.647971  2.118812\n",
      ">= 75  1.884512  2.425974\n"
     ]
    }
   ],
   "source": [
    "X = final[['<= 29','30-44', '45-59', '60-74', '>= 75']].copy()\n",
    "X = X.drop(\"30-44\", axis=1)\n",
    "result = get_model_result(X, y)\n",
    "log_odds = result.conf_int(alpha=0.05)\n",
    "odds = np.exp(log_odds)\n",
    "print(odds)\n",
    "\n",
    "#>= 75  1.884512  2.425974"
   ]
  },
  {
   "cell_type": "code",
   "execution_count": 377,
   "id": "5d11b975-0f82-4625-9caf-344c9c0b7e40",
   "metadata": {},
   "outputs": [
    {
     "name": "stdout",
     "output_type": "stream",
     "text": [
      "0    const\n",
      "1    <= 29\n",
      "2    45-59\n",
      "3    60-74\n",
      "4    >= 75\n",
      "Name: 0, dtype: object\n"
     ]
    },
    {
     "data": {
      "text/plain": [
       "0    0.396056\n",
       "1    0.752993\n",
       "2    1.531887\n",
       "3    1.868620\n",
       "4    2.138276\n",
       "Name: 1, dtype: float64"
      ]
     },
     "execution_count": 377,
     "metadata": {},
     "output_type": "execute_result"
    }
   ],
   "source": [
    "odd = get_prr(result) \n",
    "odd"
   ]
  },
  {
   "cell_type": "code",
   "execution_count": 378,
   "id": "7ca0b5f0-f007-4e2a-99f3-66970a54b66a",
   "metadata": {},
   "outputs": [
    {
     "name": "stdout",
     "output_type": "stream",
     "text": [
      "                  0         1\n",
      "const      0.576067  0.625479\n",
      "AC         0.822497  1.054738\n",
      "CodeOther  1.123869  1.382592\n"
     ]
    }
   ],
   "source": [
    "X = final[['SCC','AC', 'CodeOther']].copy()\n",
    "X = X.drop(\"SCC\", axis=1)\n",
    "result = get_model_result(X, y)\n",
    "log_odds = result.conf_int(alpha=0.05)\n",
    "odds = np.exp(log_odds)\n",
    "print(odds)"
   ]
  },
  {
   "cell_type": "code",
   "execution_count": 379,
   "id": "9d169336-b332-4dac-91e6-70959e00602e",
   "metadata": {},
   "outputs": [
    {
     "name": "stdout",
     "output_type": "stream",
     "text": [
      "0        const\n",
      "1           AC\n",
      "2    CodeOther\n",
      "Name: 0, dtype: object\n"
     ]
    },
    {
     "data": {
      "text/plain": [
       "0    0.600255\n",
       "1    0.931369\n",
       "2    1.246575\n",
       "Name: 1, dtype: float64"
      ]
     },
     "execution_count": 379,
     "metadata": {},
     "output_type": "execute_result"
    }
   ],
   "source": [
    "odd = get_prr(result) \n",
    "odd"
   ]
  },
  {
   "cell_type": "code",
   "execution_count": 380,
   "id": "263788a7-3484-49dc-b8a1-e9c30142ed83",
   "metadata": {},
   "outputs": [
    {
     "name": "stdout",
     "output_type": "stream",
     "text": [
      "              0         1\n",
      "const  0.573394  0.626868\n",
      "Other  0.961250  1.122045\n"
     ]
    }
   ],
   "source": [
    "X = final[['Estonian','Other']].copy()\n",
    "X = X.drop(\"Estonian\", axis=1)\n",
    "result = get_model_result(X, y)\n",
    "log_odds = result.conf_int(alpha=0.05)\n",
    "odds = np.exp(log_odds)\n",
    "print(odds)"
   ]
  },
  {
   "cell_type": "code",
   "execution_count": 381,
   "id": "fd8d875a-dd3c-4069-9c72-b07cbd5aa289",
   "metadata": {},
   "outputs": [
    {
     "name": "stdout",
     "output_type": "stream",
     "text": [
      "0    const\n",
      "1    Other\n",
      "Name: 0, dtype: object\n"
     ]
    },
    {
     "data": {
      "text/plain": [
       "0    0.599536\n",
       "1    1.038524\n",
       "Name: 1, dtype: float64"
      ]
     },
     "execution_count": 381,
     "metadata": {},
     "output_type": "execute_result"
    }
   ],
   "source": [
    "odd = get_prr(result) \n",
    "odd"
   ]
  },
  {
   "cell_type": "code",
   "execution_count": 382,
   "id": "3301bb40-9d45-41be-af32-7e1533929199",
   "metadata": {},
   "outputs": [],
   "source": [
    "#MULTI"
   ]
  },
  {
   "cell_type": "code",
   "execution_count": 383,
   "id": "694a3e20-1483-4bcd-b802-d32852f321ae",
   "metadata": {},
   "outputs": [
    {
     "name": "stdout",
     "output_type": "stream",
     "text": [
      "                             0         1\n",
      "const                 0.000000       inf\n",
      "Basic&Primary         1.096353  1.516808\n",
      "EducationUnknown      1.089263  1.547775\n",
      "Secondary             1.019428  1.348643\n",
      "Secondary_vocational  0.960531  1.295279\n",
      "MaritalStatusUnknown  0.000000       inf\n",
      "divorced              0.000000       inf\n",
      "married               0.000000       inf\n",
      "single                0.000000       inf\n",
      "widow                 0.000000       inf\n",
      "30-44                 0.000000       inf\n",
      "45-59                 0.000000       inf\n",
      "60-74                 0.000000       inf\n",
      "<= 29                 0.000000       inf\n",
      ">= 75                 0.000000       inf\n",
      "Estonian              0.000000       inf\n",
      "NationalityUnknown    0.000000       inf\n",
      "Other                 0.000000       inf\n",
      "Central               0.000000       inf\n",
      "North                 0.000000       inf\n",
      "North-East            0.000000       inf\n",
      "South                 0.000000       inf\n",
      "West                  0.000000       inf\n",
      "AC                         NaN       NaN\n",
      "CodeOther                  NaN       NaN\n",
      "SCC                   0.000000       inf\n"
     ]
    },
    {
     "name": "stderr",
     "output_type": "stream",
     "text": [
      "/opt/conda/lib/python3.10/site-packages/pandas/core/internals/blocks.py:352: RuntimeWarning: overflow encountered in exp\n",
      "  result = func(self.values, **kwargs)\n"
     ]
    }
   ],
   "source": [
    "X = final\n",
    "X = X.drop(\"StageGroup\", axis=1)\n",
    "X = X.drop(\"University&higher\", axis=1)\n",
    "result = get_model_result(X, y)\n",
    "log_odds = result.conf_int(alpha=0.05)\n",
    "odds = np.exp(log_odds)\n",
    "print(odds)"
   ]
  },
  {
   "cell_type": "code",
   "execution_count": 384,
   "id": "86a9c42a-11ae-4b1f-b860-19588164b50a",
   "metadata": {},
   "outputs": [
    {
     "name": "stdout",
     "output_type": "stream",
     "text": [
      "0                    const\n",
      "1            Basic&Primary\n",
      "2         EducationUnknown\n",
      "3                Secondary\n",
      "4     Secondary_vocational\n",
      "5     MaritalStatusUnknown\n",
      "6                 divorced\n",
      "7                  married\n",
      "8                   single\n",
      "9                    widow\n",
      "10                   30-44\n",
      "11                   45-59\n",
      "12                   60-74\n",
      "13                   <= 29\n",
      "14                   >= 75\n",
      "15                Estonian\n",
      "16      NationalityUnknown\n",
      "17                   Other\n",
      "18                 Central\n",
      "19                   North\n",
      "20              North-East\n",
      "21                   South\n",
      "22                    West\n",
      "23                      AC\n",
      "24               CodeOther\n",
      "25                     SCC\n",
      "Name: 0, dtype: object\n",
      "0     0.729424\n",
      "1     1.289559\n",
      "2     1.298487\n",
      "3     1.172572\n",
      "4     1.115385\n",
      "5     0.963869\n",
      "6     0.933980\n",
      "7     0.896551\n",
      "8     1.037382\n",
      "9     0.871273\n",
      "10    0.692048\n",
      "11    1.078747\n",
      "12    1.310882\n",
      "13    0.502480\n",
      "14    1.483197\n",
      "15    0.862172\n",
      "16    0.952181\n",
      "17    0.888518\n",
      "18    0.906921\n",
      "19    0.954469\n",
      "20    0.999000\n",
      "21    0.887985\n",
      "22    0.949994\n",
      "23    0.808156\n",
      "24    1.032621\n",
      "25    0.874153\n",
      "Name: 1, dtype: float64\n"
     ]
    }
   ],
   "source": [
    "odd = get_prr(result)\n",
    "print(odd)"
   ]
  },
  {
   "cell_type": "code",
   "execution_count": 385,
   "id": "9bf657e7-6edb-4147-9635-0448c9638915",
   "metadata": {},
   "outputs": [
    {
     "name": "stdout",
     "output_type": "stream",
     "text": [
      "                             0         1\n",
      "const                 0.000000       inf\n",
      "Basic&Primary         0.000000       inf\n",
      "EducationUnknown      0.000000       inf\n",
      "Secondary             0.000000       inf\n",
      "Secondary_vocational  0.000000       inf\n",
      "University&higher     0.000000       inf\n",
      "MaritalStatusUnknown  0.000000       inf\n",
      "divorced              0.000000       inf\n",
      "married               0.000000       inf\n",
      "single                0.000000       inf\n",
      "widow                 0.000000       inf\n",
      "45-59                 1.132615  2.144351\n",
      "60-74                 1.350289  2.654156\n",
      "<= 29                 0.246317  2.140231\n",
      ">= 75                 1.024790  4.474751\n",
      "Estonian              0.000000       inf\n",
      "NationalityUnknown    0.000000       inf\n",
      "Other                 0.000000       inf\n",
      "Central               0.000000       inf\n",
      "North                 0.000000       inf\n",
      "North-East            0.000000       inf\n",
      "South                 0.000000       inf\n",
      "West                  0.000000       inf\n",
      "AC                    0.000000       inf\n",
      "CodeOther             0.000000       inf\n",
      "SCC                   0.000000       inf\n"
     ]
    },
    {
     "name": "stderr",
     "output_type": "stream",
     "text": [
      "/opt/conda/lib/python3.10/site-packages/pandas/core/internals/blocks.py:352: RuntimeWarning: overflow encountered in exp\n",
      "  result = func(self.values, **kwargs)\n"
     ]
    }
   ],
   "source": [
    "X = final\n",
    "X = X.drop(\"StageGroup\", axis=1)\n",
    "X = X.drop(\"30-44\", axis=1)\n",
    "result = get_model_result(X, y)\n",
    "log_odds = result.conf_int(alpha=0.05)\n",
    "odds = np.exp(log_odds)\n",
    "print(odds)"
   ]
  },
  {
   "cell_type": "code",
   "execution_count": 386,
   "id": "22f4b834-7215-4403-add5-f943d792806c",
   "metadata": {},
   "outputs": [
    {
     "name": "stdout",
     "output_type": "stream",
     "text": [
      "0                    const\n",
      "1            Basic&Primary\n",
      "2         EducationUnknown\n",
      "3                Secondary\n",
      "4     Secondary_vocational\n",
      "5        University&higher\n",
      "6     MaritalStatusUnknown\n",
      "7                 divorced\n",
      "8                  married\n",
      "9                   single\n",
      "10                   widow\n",
      "11                   45-59\n",
      "12                   60-74\n",
      "13                   <= 29\n",
      "14                   >= 75\n",
      "15                Estonian\n",
      "16      NationalityUnknown\n",
      "17                   Other\n",
      "18                 Central\n",
      "19                   North\n",
      "20              North-East\n",
      "21                   South\n",
      "22                    West\n",
      "23                      AC\n",
      "24               CodeOther\n",
      "25                     SCC\n",
      "Name: 0, dtype: object\n",
      "0     0.684067\n",
      "1     1.021835\n",
      "2     1.029836\n",
      "3     0.928672\n",
      "4     0.883557\n",
      "5     0.792233\n",
      "6     0.951705\n",
      "7     0.922286\n",
      "8     0.885148\n",
      "9     1.023471\n",
      "10    0.860364\n",
      "11    1.558463\n",
      "12    1.893070\n",
      "13    0.726076\n",
      "14    2.141486\n",
      "15    0.842737\n",
      "16    0.934634\n",
      "17    0.868489\n",
      "18    0.895386\n",
      "19    0.942330\n",
      "20    0.986887\n",
      "21    0.876253\n",
      "22    0.937536\n",
      "23    0.790808\n",
      "24    1.011465\n",
      "25    0.855217\n",
      "Name: 1, dtype: float64\n"
     ]
    }
   ],
   "source": [
    "odd = get_prr(result)\n",
    "print(odd)"
   ]
  },
  {
   "cell_type": "code",
   "execution_count": 387,
   "id": "d6c6ffa3-a9f1-4444-a3cb-ced17450c783",
   "metadata": {},
   "outputs": [
    {
     "name": "stdout",
     "output_type": "stream",
     "text": [
      "                             0         1\n",
      "const                 0.000000       inf\n",
      "Basic&Primary         0.000000       inf\n",
      "EducationUnknown      0.000000       inf\n",
      "Secondary             0.000000       inf\n",
      "Secondary_vocational  0.000000       inf\n",
      "University&higher     0.000000       inf\n",
      "MaritalStatusUnknown  0.000000       inf\n",
      "divorced              0.000000       inf\n",
      "married               0.000000       inf\n",
      "single                0.000000       inf\n",
      "widow                 0.000000       inf\n",
      "30-44                 0.000000       inf\n",
      "45-59                 0.000000       inf\n",
      "60-74                 0.000000       inf\n",
      "<= 29                 0.000000       inf\n",
      ">= 75                 0.000000       inf\n",
      "NationalityUnknown    0.804661  1.513430\n",
      "Other                 0.919917  1.153352\n",
      "Central               0.000000       inf\n",
      "North                 0.000000       inf\n",
      "North-East            0.000000       inf\n",
      "South                 0.000000       inf\n",
      "West                  0.000000       inf\n",
      "AC                    0.000000       inf\n",
      "CodeOther                  NaN       NaN\n",
      "SCC                        NaN       NaN\n"
     ]
    },
    {
     "name": "stderr",
     "output_type": "stream",
     "text": [
      "/opt/conda/lib/python3.10/site-packages/pandas/core/internals/blocks.py:352: RuntimeWarning: overflow encountered in exp\n",
      "  result = func(self.values, **kwargs)\n"
     ]
    }
   ],
   "source": [
    "X = final\n",
    "X = X.drop(\"StageGroup\", axis=1)\n",
    "X = X.drop(\"Estonian\", axis=1)\n",
    "result = get_model_result(X, y)\n",
    "log_odds = result.conf_int(alpha=0.05)\n",
    "odds = np.exp(log_odds)\n",
    "print(odds)"
   ]
  },
  {
   "cell_type": "code",
   "execution_count": 388,
   "id": "c3cf6ab5-c2d0-4389-a351-872735dcf890",
   "metadata": {},
   "outputs": [
    {
     "name": "stdout",
     "output_type": "stream",
     "text": [
      "0                    const\n",
      "1            Basic&Primary\n",
      "2         EducationUnknown\n",
      "3                Secondary\n",
      "4     Secondary_vocational\n",
      "5        University&higher\n",
      "6     MaritalStatusUnknown\n",
      "7                 divorced\n",
      "8                  married\n",
      "9                   single\n",
      "10                   widow\n",
      "11                   30-44\n",
      "12                   45-59\n",
      "13                   60-74\n",
      "14                   <= 29\n",
      "15                   >= 75\n",
      "16      NationalityUnknown\n",
      "17                   Other\n",
      "18                 Central\n",
      "19                   North\n",
      "20              North-East\n",
      "21                   South\n",
      "22                    West\n",
      "23                      AC\n",
      "24               CodeOther\n",
      "25                     SCC\n",
      "Name: 0, dtype: object\n",
      "0     0.754575\n",
      "1     1.042060\n",
      "2     1.049590\n",
      "3     0.947432\n",
      "4     0.901406\n",
      "5     0.807914\n",
      "6     0.970154\n",
      "7     0.940541\n",
      "8     0.902759\n",
      "9     1.043834\n",
      "10    0.877569\n",
      "11    0.696979\n",
      "12    1.086325\n",
      "13    1.319430\n",
      "14    0.506262\n",
      "15    1.492123\n",
      "16    1.103514\n",
      "17    1.030042\n",
      "18    0.913018\n",
      "19    0.960693\n",
      "20    1.005817\n",
      "21    0.893865\n",
      "22    0.956763\n",
      "23    0.818649\n",
      "24    1.043416\n",
      "25    0.883380\n",
      "Name: 1, dtype: float64\n"
     ]
    }
   ],
   "source": [
    "odd = get_prr(result)\n",
    "print(odd)"
   ]
  },
  {
   "cell_type": "code",
   "execution_count": 389,
   "id": "6e0fd86b-c102-49a1-970e-ab33c97d2a69",
   "metadata": {},
   "outputs": [
    {
     "name": "stdout",
     "output_type": "stream",
     "text": [
      "                             0         1\n",
      "const                 0.000000       inf\n",
      "Basic&Primary         0.000000       inf\n",
      "EducationUnknown      0.000000       inf\n",
      "Secondary             0.000000       inf\n",
      "Secondary_vocational  0.000000       inf\n",
      "University&higher     0.000000       inf\n",
      "MaritalStatusUnknown  0.810286  1.424675\n",
      "divorced              0.886638  1.221886\n",
      "single                0.792219  1.688564\n",
      "widow                 0.610700  1.547217\n",
      "30-44                 0.000000       inf\n",
      "45-59                 0.000000       inf\n",
      "60-74                 0.000000       inf\n",
      "<= 29                 0.000000       inf\n",
      ">= 75                 0.000000       inf\n",
      "Estonian              0.000000       inf\n",
      "NationalityUnknown    0.000000       inf\n",
      "Other                 0.000000       inf\n",
      "Central               0.000000       inf\n",
      "North                 0.000000       inf\n",
      "North-East            0.000000       inf\n",
      "South                 0.000000       inf\n",
      "West                  0.000000       inf\n",
      "AC                         NaN       NaN\n",
      "CodeOther                  NaN       NaN\n",
      "SCC                        NaN       NaN\n"
     ]
    },
    {
     "name": "stderr",
     "output_type": "stream",
     "text": [
      "/opt/conda/lib/python3.10/site-packages/pandas/core/internals/blocks.py:352: RuntimeWarning: overflow encountered in exp\n",
      "  result = func(self.values, **kwargs)\n"
     ]
    }
   ],
   "source": [
    "X = final\n",
    "X = X.drop(\"StageGroup\", axis=1)\n",
    "X = X.drop(\"married\", axis=1)\n",
    "result = get_model_result(X, y)\n",
    "log_odds = result.conf_int(alpha=0.05)\n",
    "odds = np.exp(log_odds)\n",
    "print(odds)"
   ]
  },
  {
   "cell_type": "code",
   "execution_count": 390,
   "id": "b54764ff-306c-4b19-9fa7-e7835ea2c0bf",
   "metadata": {},
   "outputs": [
    {
     "name": "stdout",
     "output_type": "stream",
     "text": [
      "0                    const\n",
      "1            Basic&Primary\n",
      "2         EducationUnknown\n",
      "3                Secondary\n",
      "4     Secondary_vocational\n",
      "5        University&higher\n",
      "6     MaritalStatusUnknown\n",
      "7                 divorced\n",
      "8                   single\n",
      "9                    widow\n",
      "10                   30-44\n",
      "11                   45-59\n",
      "12                   60-74\n",
      "13                   <= 29\n",
      "14                   >= 75\n",
      "15                Estonian\n",
      "16      NationalityUnknown\n",
      "17                   Other\n",
      "18                 Central\n",
      "19                   North\n",
      "20              North-East\n",
      "21                   South\n",
      "22                    West\n",
      "23                      AC\n",
      "24               CodeOther\n",
      "25                     SCC\n",
      "Name: 0, dtype: object\n",
      "0     0.000000\n",
      "1          inf\n",
      "2          inf\n",
      "3          inf\n",
      "4          inf\n",
      "5          inf\n",
      "6     1.074440\n",
      "7     1.040811\n",
      "8     1.156618\n",
      "9     0.972097\n",
      "10         inf\n",
      "11         inf\n",
      "12         inf\n",
      "13         inf\n",
      "14         inf\n",
      "15         inf\n",
      "16         inf\n",
      "17         inf\n",
      "18         inf\n",
      "19         inf\n",
      "20         inf\n",
      "21         inf\n",
      "22         inf\n",
      "23         inf\n",
      "24         inf\n",
      "25         inf\n",
      "Name: 1, dtype: float64\n"
     ]
    },
    {
     "name": "stderr",
     "output_type": "stream",
     "text": [
      "/opt/conda/lib/python3.10/site-packages/pandas/core/arraylike.py:405: RuntimeWarning: overflow encountered in exp\n",
      "  result = getattr(ufunc, method)(*inputs, **kwargs)\n"
     ]
    }
   ],
   "source": [
    "odd = get_prr(result)\n",
    "print(odd)"
   ]
  },
  {
   "cell_type": "code",
   "execution_count": 391,
   "id": "bb247c8f-4e86-46d5-a3bb-5bea88097494",
   "metadata": {},
   "outputs": [
    {
     "name": "stdout",
     "output_type": "stream",
     "text": [
      "                             0         1\n",
      "const                      NaN       NaN\n",
      "Basic&Primary              NaN       NaN\n",
      "EducationUnknown           NaN       NaN\n",
      "Secondary                  NaN       NaN\n",
      "Secondary_vocational       NaN       NaN\n",
      "University&higher          NaN       NaN\n",
      "MaritalStatusUnknown       NaN       NaN\n",
      "divorced                   NaN       NaN\n",
      "married                    NaN       NaN\n",
      "single                     NaN       NaN\n",
      "widow                      NaN       NaN\n",
      "30-44                      NaN       NaN\n",
      "45-59                      NaN       NaN\n",
      "60-74                      NaN       NaN\n",
      "<= 29                      NaN       NaN\n",
      ">= 75                      NaN       NaN\n",
      "Estonian              0.000000       inf\n",
      "NationalityUnknown    0.000000       inf\n",
      "Other                      NaN       NaN\n",
      "Central               0.000000       inf\n",
      "North                 0.000000       inf\n",
      "North-East            0.000000       inf\n",
      "South                 0.000000       inf\n",
      "West                       NaN       NaN\n",
      "AC                    0.824332  1.036919\n",
      "CodeOther             1.070797  1.302591\n"
     ]
    },
    {
     "name": "stderr",
     "output_type": "stream",
     "text": [
      "/opt/conda/lib/python3.10/site-packages/pandas/core/internals/blocks.py:352: RuntimeWarning: overflow encountered in exp\n",
      "  result = func(self.values, **kwargs)\n"
     ]
    }
   ],
   "source": [
    "X = final\n",
    "X = X.drop(\"StageGroup\", axis=1)\n",
    "X = X.drop(\"SCC\", axis=1)\n",
    "result = get_model_result(X, y)\n",
    "log_odds = result.conf_int(alpha=0.05)\n",
    "odds = np.exp(log_odds)\n",
    "print(odds)"
   ]
  },
  {
   "cell_type": "code",
   "execution_count": 392,
   "id": "7f6407e7-0eda-4af0-9dfb-8cfa8a2bbe23",
   "metadata": {},
   "outputs": [
    {
     "name": "stdout",
     "output_type": "stream",
     "text": [
      "0                    const\n",
      "1            Basic&Primary\n",
      "2         EducationUnknown\n",
      "3                Secondary\n",
      "4     Secondary_vocational\n",
      "5        University&higher\n",
      "6     MaritalStatusUnknown\n",
      "7                 divorced\n",
      "8                  married\n",
      "9                   single\n",
      "10                   widow\n",
      "11                   30-44\n",
      "12                   45-59\n",
      "13                   60-74\n",
      "14                   <= 29\n",
      "15                   >= 75\n",
      "16                Estonian\n",
      "17      NationalityUnknown\n",
      "18                   Other\n",
      "19                 Central\n",
      "20                   North\n",
      "21              North-East\n",
      "22                   South\n",
      "23                    West\n",
      "24                      AC\n",
      "25               CodeOther\n",
      "Name: 0, dtype: object\n",
      "0     0.759192\n",
      "1     1.043207\n",
      "2     1.050641\n",
      "3     0.948665\n",
      "4     0.902398\n",
      "5     0.809046\n",
      "6     0.971028\n",
      "7     0.941670\n",
      "8     0.903752\n",
      "9     1.045087\n",
      "10    0.879062\n",
      "11    0.697746\n",
      "12    1.087520\n",
      "13    1.321014\n",
      "14    0.506972\n",
      "15    1.493915\n",
      "16    0.873978\n",
      "17    0.965026\n",
      "18    0.900144\n",
      "19    0.913931\n",
      "20    0.962232\n",
      "21    1.007125\n",
      "22    0.894849\n",
      "23    0.957911\n",
      "24    0.924502\n",
      "25    1.181045\n",
      "Name: 1, dtype: float64\n"
     ]
    }
   ],
   "source": [
    "odd = get_prr(result)\n",
    "print(odd)"
   ]
  },
  {
   "cell_type": "code",
   "execution_count": 393,
   "id": "80d145e5-4ee9-4e7b-9f21-34a0f778c2b6",
   "metadata": {},
   "outputs": [
    {
     "name": "stdout",
     "output_type": "stream",
     "text": [
      "                             0         1\n",
      "const                 0.000000       inf\n",
      "Basic&Primary         0.000000       inf\n",
      "EducationUnknown      0.000000       inf\n",
      "Secondary             0.000000       inf\n",
      "Secondary_vocational  0.000000       inf\n",
      "University&higher     0.000000       inf\n",
      "MaritalStatusUnknown  0.000000       inf\n",
      "divorced              0.000000       inf\n",
      "married               0.000000       inf\n",
      "single                0.000000       inf\n",
      "widow                 0.000000       inf\n",
      "30-44                 0.000000       inf\n",
      "45-59                 0.000000       inf\n",
      "60-74                 0.000000       inf\n",
      "<= 29                 0.000000       inf\n",
      ">= 75                 0.000000       inf\n",
      "Estonian              0.000000       inf\n",
      "NationalityUnknown    0.000000       inf\n",
      "Other                 0.000000       inf\n",
      "Central               0.843398  1.070265\n",
      "North-East            0.931355  1.176630\n",
      "South                 0.842651  1.027050\n",
      "West                  0.889979  1.113414\n",
      "AC                         NaN       NaN\n",
      "CodeOther             0.000000       inf\n",
      "SCC                   0.000000       inf\n"
     ]
    },
    {
     "name": "stderr",
     "output_type": "stream",
     "text": [
      "/opt/conda/lib/python3.10/site-packages/pandas/core/internals/blocks.py:352: RuntimeWarning: overflow encountered in exp\n",
      "  result = func(self.values, **kwargs)\n"
     ]
    }
   ],
   "source": [
    "X = final\n",
    "X = X.drop(\"StageGroup\", axis=1)\n",
    "X = X.drop(\"North\", axis=1)\n",
    "result = get_model_result(X, y)\n",
    "log_odds = result.conf_int(alpha=0.05)\n",
    "odds = np.exp(log_odds)\n",
    "print(odds)"
   ]
  },
  {
   "cell_type": "code",
   "execution_count": 394,
   "id": "3b1ec478-94d3-4ac6-9e56-9fcc6f70248e",
   "metadata": {},
   "outputs": [
    {
     "name": "stdout",
     "output_type": "stream",
     "text": [
      "0                    const\n",
      "1            Basic&Primary\n",
      "2         EducationUnknown\n",
      "3                Secondary\n",
      "4     Secondary_vocational\n",
      "5        University&higher\n",
      "6     MaritalStatusUnknown\n",
      "7                 divorced\n",
      "8                  married\n",
      "9                   single\n",
      "10                   widow\n",
      "11                   30-44\n",
      "12                   45-59\n",
      "13                   60-74\n",
      "14                   <= 29\n",
      "15                   >= 75\n",
      "16                Estonian\n",
      "17      NationalityUnknown\n",
      "18                   Other\n",
      "19                 Central\n",
      "20              North-East\n",
      "21                   South\n",
      "22                    West\n",
      "23                      AC\n",
      "24               CodeOther\n",
      "25                     SCC\n",
      "Name: 0, dtype: object\n",
      "0     0.787651\n",
      "1     1.051061\n",
      "2     1.058973\n",
      "3     0.955520\n",
      "4     0.909009\n",
      "5     0.814729\n",
      "6     0.978436\n",
      "7     0.948759\n",
      "8     0.910556\n",
      "9     1.052639\n",
      "10    0.885148\n",
      "11    0.702999\n",
      "12    1.095488\n",
      "13    1.330826\n",
      "14    0.510533\n",
      "15    1.505011\n",
      "16    0.884971\n",
      "17    0.976188\n",
      "18    0.911649\n",
      "19    0.950089\n",
      "20    1.046865\n",
      "21    0.930252\n",
      "22    0.995411\n",
      "23    0.829527\n",
      "24    1.060139\n",
      "25    0.895655\n",
      "Name: 1, dtype: float64\n"
     ]
    }
   ],
   "source": [
    "odd = get_prr(result)\n",
    "print(odd)"
   ]
  },
  {
   "cell_type": "code",
   "execution_count": null,
   "id": "e55d25b6-7574-49fe-9bf0-e9516ffb881e",
   "metadata": {},
   "outputs": [],
   "source": []
  },
  {
   "cell_type": "code",
   "execution_count": null,
   "id": "2d46c958-be81-4c39-a024-b8084786096b",
   "metadata": {},
   "outputs": [],
   "source": []
  },
  {
   "cell_type": "code",
   "execution_count": null,
   "id": "32b4475d-ec6c-4a12-ae64-ea831b028dc4",
   "metadata": {},
   "outputs": [],
   "source": []
  }
 ],
 "metadata": {
  "kernelspec": {
   "display_name": "Python 3 (ipykernel)",
   "language": "python",
   "name": "python3"
  },
  "language_info": {
   "codemirror_mode": {
    "name": "ipython",
    "version": 3
   },
   "file_extension": ".py",
   "mimetype": "text/x-python",
   "name": "python",
   "nbconvert_exporter": "python",
   "pygments_lexer": "ipython3",
   "version": "3.10.6"
  }
 },
 "nbformat": 4,
 "nbformat_minor": 5
}
