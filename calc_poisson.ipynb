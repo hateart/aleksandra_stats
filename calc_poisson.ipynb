{
 "cells": [
  {
   "cell_type": "code",
   "execution_count": 1,
   "id": "285f9003-e2d9-493e-885c-495f8b3d410c",
   "metadata": {},
   "outputs": [],
   "source": [
    "import pandas as pd\n",
    "import statsmodels.api as sm\n",
    "import numpy as np"
   ]
  },
  {
   "cell_type": "code",
   "execution_count": 2,
   "id": "0147976f-a750-45ed-974a-d968f93a4014",
   "metadata": {},
   "outputs": [],
   "source": [
    "final = pd.read_csv(\"./data_for_poisson.csv\", index_col=False, header=None)"
   ]
  },
  {
   "cell_type": "code",
   "execution_count": 3,
   "id": "4eee96d2-9f5f-4f06-aff2-d6b149d838c5",
   "metadata": {},
   "outputs": [],
   "source": [
    "def get_model_result(X, y):\n",
    "    exog = sm.add_constant(X)\n",
    "    poission_model = sm.GLM(y, exog, family=sm.families.Poisson(link=sm.families.links.log()))\n",
    "    result = poission_model.fit(cov_type=\"hc1\")\n",
    "    return result\n",
    "def get_prr(result):\n",
    "    body = pd.read_html(result.summary2().as_html())[1]\n",
    "    names = body[0].drop(0)\n",
    "    names = names.reset_index(drop=True)\n",
    "    body = body[1].drop(0)\n",
    "    #print(names)\n",
    "    body = body.astype(float)\n",
    "    odds = np.exp(body)\n",
    "    odds = odds.reset_index(drop=True)\n",
    "    return odds"
   ]
  },
  {
   "cell_type": "code",
   "execution_count": 4,
   "id": "bc18f2eb-9893-4d05-bfe6-05210b7c0b5c",
   "metadata": {},
   "outputs": [],
   "source": [
    "#SINGLE"
   ]
  },
  {
   "cell_type": "code",
   "execution_count": 5,
   "id": "0536c547-455e-40e6-ad75-26ae1406da33",
   "metadata": {},
   "outputs": [
    {
     "ename": "AttributeError",
     "evalue": "'DataFrame' object has no attribute 'StageGroup'",
     "output_type": "error",
     "traceback": [
      "\u001b[0;31m---------------------------------------------------------------------------\u001b[0m",
      "\u001b[0;31mAttributeError\u001b[0m                            Traceback (most recent call last)",
      "Cell \u001b[0;32mIn [5], line 1\u001b[0m\n\u001b[0;32m----> 1\u001b[0m y \u001b[38;5;241m=\u001b[39m \u001b[43mfinal\u001b[49m\u001b[38;5;241;43m.\u001b[39;49m\u001b[43mStageGroup\u001b[49m\n\u001b[1;32m      2\u001b[0m X \u001b[38;5;241m=\u001b[39m final[[\u001b[38;5;124m'\u001b[39m\u001b[38;5;124mBasic&Primary\u001b[39m\u001b[38;5;124m'\u001b[39m,\u001b[38;5;124m'\u001b[39m\u001b[38;5;124mSecondary\u001b[39m\u001b[38;5;124m'\u001b[39m, \u001b[38;5;124m'\u001b[39m\u001b[38;5;124mSecondary_vocational\u001b[39m\u001b[38;5;124m'\u001b[39m, \u001b[38;5;124m'\u001b[39m\u001b[38;5;124mUniversity&higher\u001b[39m\u001b[38;5;124m'\u001b[39m]]\u001b[38;5;241m.\u001b[39mcopy()\n\u001b[1;32m      3\u001b[0m X \u001b[38;5;241m=\u001b[39m X\u001b[38;5;241m.\u001b[39mdrop(\u001b[38;5;124m\"\u001b[39m\u001b[38;5;124mUniversity&higher\u001b[39m\u001b[38;5;124m\"\u001b[39m, axis\u001b[38;5;241m=\u001b[39m\u001b[38;5;241m1\u001b[39m)\n",
      "File \u001b[0;32m/opt/conda/lib/python3.10/site-packages/pandas/core/generic.py:5907\u001b[0m, in \u001b[0;36mNDFrame.__getattr__\u001b[0;34m(self, name)\u001b[0m\n\u001b[1;32m   5900\u001b[0m \u001b[38;5;28;01mif\u001b[39;00m (\n\u001b[1;32m   5901\u001b[0m     name \u001b[38;5;129;01mnot\u001b[39;00m \u001b[38;5;129;01min\u001b[39;00m \u001b[38;5;28mself\u001b[39m\u001b[38;5;241m.\u001b[39m_internal_names_set\n\u001b[1;32m   5902\u001b[0m     \u001b[38;5;129;01mand\u001b[39;00m name \u001b[38;5;129;01mnot\u001b[39;00m \u001b[38;5;129;01min\u001b[39;00m \u001b[38;5;28mself\u001b[39m\u001b[38;5;241m.\u001b[39m_metadata\n\u001b[1;32m   5903\u001b[0m     \u001b[38;5;129;01mand\u001b[39;00m name \u001b[38;5;129;01mnot\u001b[39;00m \u001b[38;5;129;01min\u001b[39;00m \u001b[38;5;28mself\u001b[39m\u001b[38;5;241m.\u001b[39m_accessors\n\u001b[1;32m   5904\u001b[0m     \u001b[38;5;129;01mand\u001b[39;00m \u001b[38;5;28mself\u001b[39m\u001b[38;5;241m.\u001b[39m_info_axis\u001b[38;5;241m.\u001b[39m_can_hold_identifiers_and_holds_name(name)\n\u001b[1;32m   5905\u001b[0m ):\n\u001b[1;32m   5906\u001b[0m     \u001b[38;5;28;01mreturn\u001b[39;00m \u001b[38;5;28mself\u001b[39m[name]\n\u001b[0;32m-> 5907\u001b[0m \u001b[38;5;28;01mreturn\u001b[39;00m \u001b[38;5;28;43mobject\u001b[39;49m\u001b[38;5;241;43m.\u001b[39;49m\u001b[38;5;21;43m__getattribute__\u001b[39;49m\u001b[43m(\u001b[49m\u001b[38;5;28;43mself\u001b[39;49m\u001b[43m,\u001b[49m\u001b[43m \u001b[49m\u001b[43mname\u001b[49m\u001b[43m)\u001b[49m\n",
      "\u001b[0;31mAttributeError\u001b[0m: 'DataFrame' object has no attribute 'StageGroup'"
     ]
    }
   ],
   "source": [
    "y = final.StageGroup\n",
    "X = final[['Basic&Primary','Secondary', 'Secondary_vocational', 'University&higher']].copy()\n",
    "X = X.drop(\"University&higher\", axis=1)\n",
    "result = get_model_result(X, y)\n",
    "log_odds = result.conf_int(alpha=0.05)\n",
    "odds = np.exp(log_odds)\n",
    "print(odds)"
   ]
  },
  {
   "cell_type": "code",
   "execution_count": null,
   "id": "bb05555f-7104-4ff1-8969-c854bff63703",
   "metadata": {},
   "outputs": [],
   "source": [
    "print(result.summary())"
   ]
  },
  {
   "cell_type": "code",
   "execution_count": null,
   "id": "5787d396-f332-4293-bc05-989515411a49",
   "metadata": {},
   "outputs": [],
   "source": [
    "odd = get_prr(result)"
   ]
  },
  {
   "cell_type": "code",
   "execution_count": null,
   "id": "2e0e9d71-dcb8-4470-a39a-5913c8ce069d",
   "metadata": {},
   "outputs": [],
   "source": [
    "odd"
   ]
  },
  {
   "cell_type": "code",
   "execution_count": null,
   "id": "3301bb40-9d45-41be-af32-7e1533929199",
   "metadata": {},
   "outputs": [],
   "source": [
    "#MULTI"
   ]
  },
  {
   "cell_type": "code",
   "execution_count": null,
   "id": "694a3e20-1483-4bcd-b802-d32852f321ae",
   "metadata": {},
   "outputs": [],
   "source": [
    "X = final\n",
    "X = X.drop(\"StageGroup\", axis=1)\n",
    "X = X.drop(\"University&higher\", axis=1)\n",
    "result = get_model_result(X, y)\n",
    "log_odds = result.conf_int(alpha=0.05)\n",
    "odds = np.exp(log_odds)\n",
    "print(odds)"
   ]
  },
  {
   "cell_type": "code",
   "execution_count": null,
   "id": "86a9c42a-11ae-4b1f-b860-19588164b50a",
   "metadata": {},
   "outputs": [],
   "source": [
    "odd = get_prr(result)\n",
    "print(odds)"
   ]
  },
  {
   "cell_type": "code",
   "execution_count": null,
   "id": "9bf657e7-6edb-4147-9635-0448c9638915",
   "metadata": {},
   "outputs": [],
   "source": [
    "print(result.summary())"
   ]
  },
  {
   "cell_type": "code",
   "execution_count": null,
   "id": "22f4b834-7215-4403-add5-f943d792806c",
   "metadata": {},
   "outputs": [],
   "source": [
    "X = final\n",
    "X = X.drop(\"StageGroup\", axis=1)\n",
    "X = X.drop(\"married\", axis=1)\n",
    "result = get_model_result(X, y)\n",
    "log_odds = result.conf_int(alpha=0.05)\n",
    "odds = np.exp(log_odds)\n",
    "print(odds)"
   ]
  },
  {
   "cell_type": "code",
   "execution_count": null,
   "id": "d6c6ffa3-a9f1-4444-a3cb-ced17450c783",
   "metadata": {},
   "outputs": [],
   "source": [
    "print(result.summary())"
   ]
  },
  {
   "cell_type": "code",
   "execution_count": null,
   "id": "c3cf6ab5-c2d0-4389-a351-872735dcf890",
   "metadata": {},
   "outputs": [],
   "source": []
  },
  {
   "cell_type": "code",
   "execution_count": null,
   "id": "6e0fd86b-c102-49a1-970e-ab33c97d2a69",
   "metadata": {},
   "outputs": [],
   "source": []
  },
  {
   "cell_type": "code",
   "execution_count": null,
   "id": "b54764ff-306c-4b19-9fa7-e7835ea2c0bf",
   "metadata": {},
   "outputs": [],
   "source": []
  }
 ],
 "metadata": {
  "kernelspec": {
   "display_name": "Python 3 (ipykernel)",
   "language": "python",
   "name": "python3"
  },
  "language_info": {
   "codemirror_mode": {
    "name": "ipython",
    "version": 3
   },
   "file_extension": ".py",
   "mimetype": "text/x-python",
   "name": "python",
   "nbconvert_exporter": "python",
   "pygments_lexer": "ipython3",
   "version": "3.10.6"
  }
 },
 "nbformat": 4,
 "nbformat_minor": 5
}
