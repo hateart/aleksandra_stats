{
 "cells": [
  {
   "cell_type": "code",
   "execution_count": 85,
   "id": "285f9003-e2d9-493e-885c-495f8b3d410c",
   "metadata": {},
   "outputs": [],
   "source": [
    "import pandas as pd\n",
    "import statsmodels.api as sm\n",
    "import numpy as np"
   ]
  },
  {
   "cell_type": "code",
   "execution_count": 86,
   "id": "0147976f-a750-45ed-974a-d968f93a4014",
   "metadata": {},
   "outputs": [],
   "source": [
    "final = pd.read_csv(\"./data_for_poisson.csv\", index_col=False)"
   ]
  },
  {
   "cell_type": "code",
   "execution_count": 87,
   "id": "4eee96d2-9f5f-4f06-aff2-d6b149d838c5",
   "metadata": {},
   "outputs": [],
   "source": [
    "def get_model_result(X, y):\n",
    "    exog = sm.add_constant(X)\n",
    "    poission_model = sm.GLM(y, exog, family=sm.families.Poisson(link=sm.families.links.log()))\n",
    "    result = poission_model.fit(cov_type=\"hc1\")\n",
    "    return result\n",
    "def get_prr(result):\n",
    "    body = pd.read_html(result.summary2().as_html())[1]\n",
    "    names = body[0].drop(0)\n",
    "    names = names.reset_index(drop=True)\n",
    "    body = body[1].drop(0)\n",
    "    print(names)\n",
    "    body = body.astype(float)\n",
    "    odds = np.exp(body)\n",
    "    odds = odds.reset_index(drop=True)\n",
    "    return odds"
   ]
  },
  {
   "cell_type": "code",
   "execution_count": 88,
   "id": "bc18f2eb-9893-4d05-bfe6-05210b7c0b5c",
   "metadata": {},
   "outputs": [],
   "source": [
    "#SINGLE"
   ]
  },
  {
   "cell_type": "code",
   "execution_count": 89,
   "id": "0536c547-455e-40e6-ad75-26ae1406da33",
   "metadata": {},
   "outputs": [
    {
     "name": "stdout",
     "output_type": "stream",
     "text": [
      "                             0         1\n",
      "const                 0.423496  0.540810\n",
      "Basic&Primary         1.244224  1.651638\n",
      "Secondary             1.077502  1.419210\n",
      "Secondary_vocational  0.986985  1.350242\n"
     ]
    }
   ],
   "source": [
    "y = final.StageGroup\n",
    "X = final[['Basic&Primary','Secondary', 'Secondary_vocational', 'University&higher']].copy()\n",
    "X = X.drop(\"University&higher\", axis=1)\n",
    "result = get_model_result(X, y)\n",
    "log_odds = result.conf_int(alpha=0.05)\n",
    "odds = np.exp(log_odds)\n",
    "print(odds)"
   ]
  },
  {
   "cell_type": "code",
   "execution_count": 90,
   "id": "bb05555f-7104-4ff1-8969-c854bff63703",
   "metadata": {},
   "outputs": [
    {
     "name": "stdout",
     "output_type": "stream",
     "text": [
      "                 Generalized Linear Model Regression Results                  \n",
      "==============================================================================\n",
      "Dep. Variable:             StageGroup   No. Observations:                 1607\n",
      "Model:                            GLM   Df Residuals:                     1603\n",
      "Model Family:                 Poisson   Df Model:                            3\n",
      "Link Function:                    log   Scale:                          1.0000\n",
      "Method:                          IRLS   Log-Likelihood:                -1437.5\n",
      "Date:                Mon, 23 Jan 2023   Deviance:                       996.95\n",
      "Time:                        17:17:18   Pearson chi2:                     668.\n",
      "No. Iterations:                     5   Pseudo R-squ. (CS):           0.007512\n",
      "Covariance Type:                  hc1                                         \n",
      "========================================================================================\n",
      "                           coef    std err          z      P>|z|      [0.025      0.975]\n",
      "----------------------------------------------------------------------------------------\n",
      "const                   -0.7369      0.062    -11.814      0.000      -0.859      -0.615\n",
      "Basic&Primary            0.3601      0.072      4.984      0.000       0.219       0.502\n",
      "Secondary                0.2124      0.070      3.022      0.003       0.075       0.350\n",
      "Secondary_vocational     0.1436      0.080      1.796      0.072      -0.013       0.300\n",
      "========================================================================================\n"
     ]
    }
   ],
   "source": [
    "print(result.summary())"
   ]
  },
  {
   "cell_type": "code",
   "execution_count": 91,
   "id": "5787d396-f332-4293-bc05-989515411a49",
   "metadata": {},
   "outputs": [
    {
     "name": "stdout",
     "output_type": "stream",
     "text": [
      "0                   const\n",
      "1           Basic&Primary\n",
      "2               Secondary\n",
      "3    Secondary_vocational\n",
      "Name: 0, dtype: object\n"
     ]
    },
    {
     "data": {
      "text/plain": [
       "0    0.478595\n",
       "1    1.433473\n",
       "2    1.236642\n",
       "3    1.154422\n",
       "Name: 1, dtype: float64"
      ]
     },
     "execution_count": 91,
     "metadata": {},
     "output_type": "execute_result"
    }
   ],
   "source": [
    "odd = get_prr(result) \n",
    "odd"
   ]
  },
  {
   "cell_type": "code",
   "execution_count": 92,
   "id": "2e0e9d71-dcb8-4470-a39a-5913c8ce069d",
   "metadata": {},
   "outputs": [],
   "source": [
    "#result.summary2()"
   ]
  },
  {
   "cell_type": "code",
   "execution_count": 93,
   "id": "ba22ffe3-4899-4725-9b3f-788308c96b72",
   "metadata": {},
   "outputs": [
    {
     "name": "stdout",
     "output_type": "stream",
     "text": [
      "                 0         1\n",
      "const     0.485767  0.572019\n",
      "divorced  1.034395  1.285631\n",
      "widow     1.168459  1.458327\n",
      "single    0.891349  1.163915\n"
     ]
    }
   ],
   "source": [
    "X = final[['married','divorced', 'widow', 'single']].copy()\n",
    "X = X.drop(\"married\", axis=1)\n",
    "result = get_model_result(X, y)\n",
    "log_odds = result.conf_int(alpha=0.05)\n",
    "odds = np.exp(log_odds)\n",
    "print(odds)\n"
   ]
  },
  {
   "cell_type": "code",
   "execution_count": 94,
   "id": "1453ece2-e9c2-415f-8b42-847c2c8d1053",
   "metadata": {},
   "outputs": [
    {
     "name": "stdout",
     "output_type": "stream",
     "text": [
      "0       const\n",
      "1    divorced\n",
      "2       widow\n",
      "3      single\n",
      "Name: 0, dtype: object\n"
     ]
    },
    {
     "data": {
      "text/plain": [
       "0    0.527134\n",
       "1    1.153153\n",
       "2    1.305388\n",
       "3    1.018570\n",
       "Name: 1, dtype: float64"
      ]
     },
     "execution_count": 94,
     "metadata": {},
     "output_type": "execute_result"
    }
   ],
   "source": [
    "odd = get_prr(result) \n",
    "odd"
   ]
  },
  {
   "cell_type": "code",
   "execution_count": 95,
   "id": "e8a911a8-0f07-49d5-aca8-3b35d14f9adf",
   "metadata": {},
   "outputs": [
    {
     "name": "stdout",
     "output_type": "stream",
     "text": [
      "                   0         1\n",
      "const       0.556268  0.632913\n",
      "South       0.820532  1.027187\n",
      "North-East  0.905090  1.173084\n",
      "Central     0.820328  1.089111\n",
      "West        0.930987  1.189521\n"
     ]
    }
   ],
   "source": [
    "X = final[['South','North-East', 'Central', 'West', 'North']].copy()\n",
    "X = X.drop(\"North\", axis=1)\n",
    "result = get_model_result(X, y)\n",
    "log_odds = result.conf_int(alpha=0.05)\n",
    "odds = np.exp(log_odds)\n",
    "print(odds)"
   ]
  },
  {
   "cell_type": "code",
   "execution_count": 96,
   "id": "c89f4a83-ea90-469a-a365-c08128ddb5e1",
   "metadata": {},
   "outputs": [
    {
     "name": "stdout",
     "output_type": "stream",
     "text": [
      "0         const\n",
      "1         South\n",
      "2    North-East\n",
      "3       Central\n",
      "4          West\n",
      "Name: 0, dtype: object\n"
     ]
    },
    {
     "data": {
      "text/plain": [
       "0    0.593333\n",
       "1    0.918053\n",
       "2    1.030455\n",
       "3    0.945256\n",
       "4    1.052323\n",
       "Name: 1, dtype: float64"
      ]
     },
     "execution_count": 96,
     "metadata": {},
     "output_type": "execute_result"
    }
   ],
   "source": [
    "odd = get_prr(result) \n",
    "odd"
   ]
  },
  {
   "cell_type": "code",
   "execution_count": 97,
   "id": "28a7d813-7415-45d9-bd36-767d941f6828",
   "metadata": {},
   "outputs": [
    {
     "name": "stdout",
     "output_type": "stream",
     "text": [
      "              0         1\n",
      "const  0.345889  0.439628\n",
      "<= 29  0.402746  1.060945\n",
      "45-59  1.307040  1.722069\n",
      "60-74  1.624974  2.129150\n",
      ">= 75  1.879769  2.468490\n"
     ]
    }
   ],
   "source": [
    "X = final[['<= 29','30-44', '45-59', '60-74', '>= 75']].copy()\n",
    "X = X.drop(\"30-44\", axis=1)\n",
    "result = get_model_result(X, y)\n",
    "log_odds = result.conf_int(alpha=0.05)\n",
    "odds = np.exp(log_odds)\n",
    "print(odds)"
   ]
  },
  {
   "cell_type": "code",
   "execution_count": 98,
   "id": "5d11b975-0f82-4625-9caf-344c9c0b7e40",
   "metadata": {},
   "outputs": [
    {
     "name": "stdout",
     "output_type": "stream",
     "text": [
      "0    const\n",
      "1    <= 29\n",
      "2    45-59\n",
      "3    60-74\n",
      "4    >= 75\n",
      "Name: 0, dtype: object\n"
     ]
    },
    {
     "data": {
      "text/plain": [
       "0    0.389964\n",
       "1    0.653704\n",
       "2    1.500202\n",
       "3    1.860044\n",
       "4    2.154158\n",
       "Name: 1, dtype: float64"
      ]
     },
     "execution_count": 98,
     "metadata": {},
     "output_type": "execute_result"
    }
   ],
   "source": [
    "odd = get_prr(result) \n",
    "odd"
   ]
  },
  {
   "cell_type": "code",
   "execution_count": 99,
   "id": "7ca0b5f0-f007-4e2a-99f3-66970a54b66a",
   "metadata": {},
   "outputs": [
    {
     "name": "stdout",
     "output_type": "stream",
     "text": [
      "              0         1\n",
      "const  0.561468  0.613668\n",
      "AC     0.860702  1.091868\n"
     ]
    }
   ],
   "source": [
    "X = final[['SCC','AC']].copy()\n",
    "X = X.drop(\"SCC\", axis=1)\n",
    "result = get_model_result(X, y)\n",
    "log_odds = result.conf_int(alpha=0.05)\n",
    "odds = np.exp(log_odds)\n",
    "print(odds)"
   ]
  },
  {
   "cell_type": "code",
   "execution_count": 100,
   "id": "9d169336-b332-4dac-91e6-70959e00602e",
   "metadata": {},
   "outputs": [
    {
     "name": "stdout",
     "output_type": "stream",
     "text": [
      "0    const\n",
      "1       AC\n",
      "Name: 0, dtype: object\n"
     ]
    },
    {
     "data": {
      "text/plain": [
       "0    0.586959\n",
       "1    0.969379\n",
       "Name: 1, dtype: float64"
      ]
     },
     "execution_count": 100,
     "metadata": {},
     "output_type": "execute_result"
    }
   ],
   "source": [
    "odd = get_prr(result) \n",
    "odd"
   ]
  },
  {
   "cell_type": "code",
   "execution_count": 101,
   "id": "263788a7-3484-49dc-b8a1-e9c30142ed83",
   "metadata": {},
   "outputs": [
    {
     "name": "stdout",
     "output_type": "stream",
     "text": [
      "              0         1\n",
      "const  0.546573  0.605050\n",
      "Other  0.963517  1.146175\n"
     ]
    }
   ],
   "source": [
    "X = final[['Estonian','Other']].copy()\n",
    "X = X.drop(\"Estonian\", axis=1)\n",
    "result = get_model_result(X, y)\n",
    "log_odds = result.conf_int(alpha=0.05)\n",
    "odds = np.exp(log_odds)\n",
    "print(odds)"
   ]
  },
  {
   "cell_type": "code",
   "execution_count": 102,
   "id": "fd8d875a-dd3c-4069-9c72-b07cbd5aa289",
   "metadata": {},
   "outputs": [
    {
     "name": "stdout",
     "output_type": "stream",
     "text": [
      "0    const\n",
      "1    Other\n",
      "Name: 0, dtype: object\n"
     ]
    },
    {
     "data": {
      "text/plain": [
       "0    0.575049\n",
       "1    1.050851\n",
       "Name: 1, dtype: float64"
      ]
     },
     "execution_count": 102,
     "metadata": {},
     "output_type": "execute_result"
    }
   ],
   "source": [
    "odd = get_prr(result) \n",
    "odd"
   ]
  },
  {
   "cell_type": "code",
   "execution_count": 69,
   "id": "3301bb40-9d45-41be-af32-7e1533929199",
   "metadata": {},
   "outputs": [],
   "source": [
    "#MULTI"
   ]
  },
  {
   "cell_type": "code",
   "execution_count": 115,
   "id": "694a3e20-1483-4bcd-b802-d32852f321ae",
   "metadata": {},
   "outputs": [
    {
     "name": "stdout",
     "output_type": "stream",
     "text": [
      "                             0         1\n",
      "const                 0.000000       inf\n",
      "Basic&Primary         1.116391  1.486417\n",
      "Secondary             1.028781  1.336769\n",
      "Secondary_vocational  0.937969  1.268335\n",
      "divorced                   NaN       NaN\n",
      "married               0.000000       inf\n",
      "single                0.000000       inf\n",
      "widow                 0.000000       inf\n",
      "30-44                      NaN       NaN\n",
      "45-59                 0.000000       inf\n",
      "60-74                      NaN       NaN\n",
      "<= 29                 0.000000       inf\n",
      ">= 75                 0.000000       inf\n",
      "Estonian              0.000000       inf\n",
      "Other                      NaN       NaN\n",
      "Central               0.000000       inf\n",
      "North                 0.000000       inf\n",
      "North-East            0.000000       inf\n",
      "South                 0.000000       inf\n",
      "West                  0.000000       inf\n",
      "AC                         NaN       NaN\n",
      "SCC                        NaN       NaN\n"
     ]
    },
    {
     "name": "stderr",
     "output_type": "stream",
     "text": [
      "/opt/conda/lib/python3.10/site-packages/pandas/core/internals/blocks.py:352: RuntimeWarning: overflow encountered in exp\n",
      "  result = func(self.values, **kwargs)\n"
     ]
    }
   ],
   "source": [
    "X = final\n",
    "X = X.drop(\"StageGroup\", axis=1)\n",
    "X = X.drop(\"University&higher\", axis=1)\n",
    "result = get_model_result(X, y)\n",
    "log_odds = result.conf_int(alpha=0.05)\n",
    "odds = np.exp(log_odds)\n",
    "print(odds)"
   ]
  },
  {
   "cell_type": "code",
   "execution_count": 116,
   "id": "86a9c42a-11ae-4b1f-b860-19588164b50a",
   "metadata": {},
   "outputs": [
    {
     "name": "stdout",
     "output_type": "stream",
     "text": [
      "0                    const\n",
      "1            Basic&Primary\n",
      "2                Secondary\n",
      "3     Secondary_vocational\n",
      "4                 divorced\n",
      "5                  married\n",
      "6                   single\n",
      "7                    widow\n",
      "8                    30-44\n",
      "9                    45-59\n",
      "10                   60-74\n",
      "11                   <= 29\n",
      "12                   >= 75\n",
      "13                Estonian\n",
      "14                   Other\n",
      "15                 Central\n",
      "16                   North\n",
      "17              North-East\n",
      "18                   South\n",
      "19                    West\n",
      "20                      AC\n",
      "21                     SCC\n",
      "Name: 0, dtype: object\n",
      "0     0.733667\n",
      "1     1.288141\n",
      "2     1.172690\n",
      "3     1.090679\n",
      "4     0.935008\n",
      "5     0.895297\n",
      "6     1.023574\n",
      "7     0.856244\n",
      "8     0.706664\n",
      "9     1.088499\n",
      "10    1.356354\n",
      "11    0.453346\n",
      "12    1.551155\n",
      "13    0.840297\n",
      "14    0.873105\n",
      "15    0.900865\n",
      "16    0.962520\n",
      "17    0.979807\n",
      "18    0.882320\n",
      "19    0.978729\n",
      "20    0.839121\n",
      "21    0.874328\n",
      "Name: 1, dtype: float64\n"
     ]
    }
   ],
   "source": [
    "odd = get_prr(result)\n",
    "print(odd)"
   ]
  },
  {
   "cell_type": "code",
   "execution_count": 117,
   "id": "9bf657e7-6edb-4147-9635-0448c9638915",
   "metadata": {},
   "outputs": [
    {
     "name": "stdout",
     "output_type": "stream",
     "text": [
      "                             0         1\n",
      "const                 0.000000       inf\n",
      "Basic&Primary         0.000000       inf\n",
      "Secondary             0.000000       inf\n",
      "Secondary_vocational  0.000000       inf\n",
      "University&higher     0.000000       inf\n",
      "divorced              0.000000       inf\n",
      "married               0.000000       inf\n",
      "single                0.000000       inf\n",
      "widow                 0.000000       inf\n",
      "45-59                 1.253613  1.890820\n",
      "60-74                 1.640012  2.238397\n",
      "<= 29                 0.384475  1.067218\n",
      ">= 75                 1.871264  2.571463\n",
      "Estonian              0.000000       inf\n",
      "Other                 0.000000       inf\n",
      "Central               0.000000       inf\n",
      "North                 0.000000       inf\n",
      "North-East            0.000000       inf\n",
      "South                 0.000000       inf\n",
      "West                  0.000000       inf\n",
      "AC                    0.000000  0.000000\n",
      "SCC                   0.000000  0.000000\n"
     ]
    },
    {
     "name": "stderr",
     "output_type": "stream",
     "text": [
      "/opt/conda/lib/python3.10/site-packages/pandas/core/internals/blocks.py:352: RuntimeWarning: overflow encountered in exp\n",
      "  result = func(self.values, **kwargs)\n"
     ]
    }
   ],
   "source": [
    "X = final\n",
    "X = X.drop(\"StageGroup\", axis=1)\n",
    "X = X.drop(\"30-44\", axis=1)\n",
    "result = get_model_result(X, y)\n",
    "log_odds = result.conf_int(alpha=0.05)\n",
    "odds = np.exp(log_odds)\n",
    "print(odds)"
   ]
  },
  {
   "cell_type": "code",
   "execution_count": 118,
   "id": "22f4b834-7215-4403-add5-f943d792806c",
   "metadata": {},
   "outputs": [
    {
     "name": "stdout",
     "output_type": "stream",
     "text": [
      "0                    const\n",
      "1            Basic&Primary\n",
      "2                Secondary\n",
      "3     Secondary_vocational\n",
      "4        University&higher\n",
      "5                 divorced\n",
      "6                  married\n",
      "7                   single\n",
      "8                    widow\n",
      "9                    45-59\n",
      "10                   60-74\n",
      "11                   <= 29\n",
      "12                   >= 75\n",
      "13                Estonian\n",
      "14                   Other\n",
      "15                 Central\n",
      "16                   North\n",
      "17              North-East\n",
      "18                   South\n",
      "19                    West\n",
      "20                      AC\n",
      "21                     SCC\n",
      "Name: 0, dtype: object\n",
      "0          inf\n",
      "1     0.000000\n",
      "2     0.000000\n",
      "3     0.000000\n",
      "4     0.000000\n",
      "5     0.000000\n",
      "6     0.000000\n",
      "7     0.000000\n",
      "8     0.000000\n",
      "9     1.539565\n",
      "10    1.915924\n",
      "11    0.640568\n",
      "12    2.193503\n",
      "13    0.000000\n",
      "14    0.000000\n",
      "15    0.000000\n",
      "16    0.000000\n",
      "17    0.000000\n",
      "18    0.000000\n",
      "19    0.000000\n",
      "20    0.000000\n",
      "21    0.000000\n",
      "Name: 1, dtype: float64\n"
     ]
    },
    {
     "name": "stderr",
     "output_type": "stream",
     "text": [
      "/opt/conda/lib/python3.10/site-packages/pandas/core/arraylike.py:405: RuntimeWarning: overflow encountered in exp\n",
      "  result = getattr(ufunc, method)(*inputs, **kwargs)\n"
     ]
    }
   ],
   "source": [
    "odd = get_prr(result)\n",
    "print(odd)"
   ]
  },
  {
   "cell_type": "code",
   "execution_count": 119,
   "id": "d6c6ffa3-a9f1-4444-a3cb-ced17450c783",
   "metadata": {},
   "outputs": [
    {
     "name": "stdout",
     "output_type": "stream",
     "text": [
      "                             0         1\n",
      "const                 0.000000       inf\n",
      "Basic&Primary         0.000000       inf\n",
      "Secondary             0.000000       inf\n",
      "Secondary_vocational  0.000000       inf\n",
      "University&higher     0.000000       inf\n",
      "divorced              0.000000       inf\n",
      "married               0.000000       inf\n",
      "single                0.000000       inf\n",
      "widow                 0.000000       inf\n",
      "30-44                 0.000000       inf\n",
      "45-59                 0.000000       inf\n",
      "60-74                 0.000000       inf\n",
      "<= 29                 0.000000       inf\n",
      ">= 75                 0.000000       inf\n",
      "Other                 0.937311  1.151105\n",
      "Central                    NaN       NaN\n",
      "North                      NaN       NaN\n",
      "North-East                 NaN       NaN\n",
      "South                      NaN       NaN\n",
      "West                       NaN       NaN\n",
      "AC                         NaN       NaN\n",
      "SCC                        NaN       NaN\n"
     ]
    },
    {
     "name": "stderr",
     "output_type": "stream",
     "text": [
      "/opt/conda/lib/python3.10/site-packages/pandas/core/internals/blocks.py:352: RuntimeWarning: overflow encountered in exp\n",
      "  result = func(self.values, **kwargs)\n"
     ]
    }
   ],
   "source": [
    "X = final\n",
    "X = X.drop(\"StageGroup\", axis=1)\n",
    "X = X.drop(\"Estonian\", axis=1)\n",
    "result = get_model_result(X, y)\n",
    "log_odds = result.conf_int(alpha=0.05)\n",
    "odds = np.exp(log_odds)\n",
    "print(odds)"
   ]
  },
  {
   "cell_type": "code",
   "execution_count": 120,
   "id": "c3cf6ab5-c2d0-4389-a351-872735dcf890",
   "metadata": {},
   "outputs": [
    {
     "name": "stdout",
     "output_type": "stream",
     "text": [
      "0                    const\n",
      "1            Basic&Primary\n",
      "2                Secondary\n",
      "3     Secondary_vocational\n",
      "4        University&higher\n",
      "5                 divorced\n",
      "6                  married\n",
      "7                   single\n",
      "8                    widow\n",
      "9                    30-44\n",
      "10                   45-59\n",
      "11                   60-74\n",
      "12                   <= 29\n",
      "13                   >= 75\n",
      "14                   Other\n",
      "15                 Central\n",
      "16                   North\n",
      "17              North-East\n",
      "18                   South\n",
      "19                    West\n",
      "20                      AC\n",
      "21                     SCC\n",
      "Name: 0, dtype: object\n",
      "0     0.742524\n",
      "1     1.055379\n",
      "2     0.960886\n",
      "3     0.893687\n",
      "4     0.819386\n",
      "5     0.937630\n",
      "6     0.896999\n",
      "7     1.027573\n",
      "8     0.859246\n",
      "9     0.709000\n",
      "10    1.091224\n",
      "11    1.359613\n",
      "12    0.453890\n",
      "13    1.555194\n",
      "14    1.038731\n",
      "15    0.902127\n",
      "16    0.964447\n",
      "17    0.983045\n",
      "18    0.884794\n",
      "19    0.981081\n",
      "20    0.844256\n",
      "21    0.879502\n",
      "Name: 1, dtype: float64\n"
     ]
    }
   ],
   "source": [
    "odd = get_prr(result)\n",
    "print(odd)"
   ]
  },
  {
   "cell_type": "code",
   "execution_count": 121,
   "id": "6e0fd86b-c102-49a1-970e-ab33c97d2a69",
   "metadata": {},
   "outputs": [
    {
     "name": "stdout",
     "output_type": "stream",
     "text": [
      "                             0         1\n",
      "const                 0.000000       inf\n",
      "Basic&Primary         0.000000       inf\n",
      "Secondary             0.000000       inf\n",
      "Secondary_vocational  0.000000       inf\n",
      "University&higher     0.000000       inf\n",
      "divorced              0.922762  1.182195\n",
      "single                0.957567  1.366189\n",
      "widow                 0.746197  1.225736\n",
      "30-44                 0.000000       inf\n",
      "45-59                 0.000000       inf\n",
      "60-74                 0.000000       inf\n",
      "<= 29                 0.000000       inf\n",
      ">= 75                 0.000000       inf\n",
      "Estonian              0.000000       inf\n",
      "Other                 0.000000       inf\n",
      "Central               0.000000       inf\n",
      "North                 0.000000       inf\n",
      "North-East            0.000000       inf\n",
      "South                 0.000000       inf\n",
      "West                  0.000000       inf\n",
      "AC                    0.000000       inf\n",
      "SCC                   0.000000       inf\n"
     ]
    },
    {
     "name": "stderr",
     "output_type": "stream",
     "text": [
      "/opt/conda/lib/python3.10/site-packages/pandas/core/internals/blocks.py:352: RuntimeWarning: overflow encountered in exp\n",
      "  result = func(self.values, **kwargs)\n"
     ]
    }
   ],
   "source": [
    "X = final\n",
    "X = X.drop(\"StageGroup\", axis=1)\n",
    "X = X.drop(\"married\", axis=1)\n",
    "result = get_model_result(X, y)\n",
    "log_odds = result.conf_int(alpha=0.05)\n",
    "odds = np.exp(log_odds)\n",
    "print(odds)"
   ]
  },
  {
   "cell_type": "code",
   "execution_count": 122,
   "id": "b54764ff-306c-4b19-9fa7-e7835ea2c0bf",
   "metadata": {},
   "outputs": [
    {
     "name": "stdout",
     "output_type": "stream",
     "text": [
      "0                    const\n",
      "1            Basic&Primary\n",
      "2                Secondary\n",
      "3     Secondary_vocational\n",
      "4        University&higher\n",
      "5                 divorced\n",
      "6                   single\n",
      "7                    widow\n",
      "8                    30-44\n",
      "9                    45-59\n",
      "10                   60-74\n",
      "11                   <= 29\n",
      "12                   >= 75\n",
      "13                Estonian\n",
      "14                   Other\n",
      "15                 Central\n",
      "16                   North\n",
      "17              North-East\n",
      "18                   South\n",
      "19                    West\n",
      "20                      AC\n",
      "21                     SCC\n",
      "Name: 0, dtype: object\n",
      "0     0.759648\n",
      "1     1.060669\n",
      "2     0.966475\n",
      "3     0.898975\n",
      "4     0.824317\n",
      "5     1.044460\n",
      "6     1.143736\n",
      "7     0.956380\n",
      "8     0.711486\n",
      "9     1.095926\n",
      "10    1.367385\n",
      "11    0.456028\n",
      "12    1.562364\n",
      "13    0.855217\n",
      "14    0.888252\n",
      "15    0.906468\n",
      "16    0.968700\n",
      "17    0.986196\n",
      "18    0.890297\n",
      "19    0.985408\n",
      "20    0.853764\n",
      "21    0.889763\n",
      "Name: 1, dtype: float64\n"
     ]
    }
   ],
   "source": [
    "odd = get_prr(result)\n",
    "print(odd)"
   ]
  },
  {
   "cell_type": "code",
   "execution_count": 123,
   "id": "bb247c8f-4e86-46d5-a3bb-5bea88097494",
   "metadata": {},
   "outputs": [
    {
     "name": "stdout",
     "output_type": "stream",
     "text": [
      "                             0         1\n",
      "const                 0.000000       inf\n",
      "Basic&Primary         0.000000       inf\n",
      "Secondary             0.000000       inf\n",
      "Secondary_vocational  0.000000       inf\n",
      "University&higher     0.000000       inf\n",
      "divorced              0.000000       inf\n",
      "married               0.000000       inf\n",
      "single                0.000000       inf\n",
      "widow                 0.000000       inf\n",
      "30-44                 0.000000       inf\n",
      "45-59                 0.000000       inf\n",
      "60-74                 0.000000       inf\n",
      "<= 29                 0.000000       inf\n",
      ">= 75                 0.000000       inf\n",
      "Estonian              0.000000       inf\n",
      "Other                 0.000000       inf\n",
      "Central                    NaN       NaN\n",
      "North                      NaN       NaN\n",
      "North-East                 NaN       NaN\n",
      "South                      NaN       NaN\n",
      "West                       NaN       NaN\n",
      "AC                    0.859308  1.073051\n"
     ]
    },
    {
     "name": "stderr",
     "output_type": "stream",
     "text": [
      "/opt/conda/lib/python3.10/site-packages/pandas/core/internals/blocks.py:352: RuntimeWarning: overflow encountered in exp\n",
      "  result = func(self.values, **kwargs)\n"
     ]
    }
   ],
   "source": [
    "X = final\n",
    "X = X.drop(\"StageGroup\", axis=1)\n",
    "X = X.drop(\"SCC\", axis=1)\n",
    "result = get_model_result(X, y)\n",
    "log_odds = result.conf_int(alpha=0.05)\n",
    "odds = np.exp(log_odds)\n",
    "print(odds)"
   ]
  },
  {
   "cell_type": "code",
   "execution_count": 124,
   "id": "7f6407e7-0eda-4af0-9dfb-8cfa8a2bbe23",
   "metadata": {},
   "outputs": [
    {
     "name": "stdout",
     "output_type": "stream",
     "text": [
      "0                    const\n",
      "1            Basic&Primary\n",
      "2                Secondary\n",
      "3     Secondary_vocational\n",
      "4        University&higher\n",
      "5                 divorced\n",
      "6                  married\n",
      "7                   single\n",
      "8                    widow\n",
      "9                    30-44\n",
      "10                   45-59\n",
      "11                   60-74\n",
      "12                   <= 29\n",
      "13                   >= 75\n",
      "14                Estonian\n",
      "15                   Other\n",
      "16                 Central\n",
      "17                   North\n",
      "18              North-East\n",
      "19                   South\n",
      "20                    West\n",
      "21                      AC\n",
      "Name: 0, dtype: object\n",
      "0          inf\n",
      "1     0.000000\n",
      "2     0.000000\n",
      "3     0.000000\n",
      "4     0.000000\n",
      "5     0.000000\n",
      "6     0.000000\n",
      "7     0.000000\n",
      "8     0.000000\n",
      "9     0.000000\n",
      "10    0.000000\n",
      "11    0.000000\n",
      "12    0.000000\n",
      "13    0.000000\n",
      "14    0.000000\n",
      "15    0.000000\n",
      "16    0.000000\n",
      "17    0.000000\n",
      "18    0.000000\n",
      "19    0.000000\n",
      "20    0.000000\n",
      "21    0.960213\n",
      "Name: 1, dtype: float64\n"
     ]
    },
    {
     "name": "stderr",
     "output_type": "stream",
     "text": [
      "/opt/conda/lib/python3.10/site-packages/pandas/core/arraylike.py:405: RuntimeWarning: overflow encountered in exp\n",
      "  result = getattr(ufunc, method)(*inputs, **kwargs)\n"
     ]
    }
   ],
   "source": [
    "odd = get_prr(result)\n",
    "print(odd)"
   ]
  },
  {
   "cell_type": "code",
   "execution_count": 125,
   "id": "80d145e5-4ee9-4e7b-9f21-34a0f778c2b6",
   "metadata": {},
   "outputs": [
    {
     "name": "stdout",
     "output_type": "stream",
     "text": [
      "                             0         1\n",
      "const                 0.000000       inf\n",
      "Basic&Primary         0.000000       inf\n",
      "Secondary             0.000000       inf\n",
      "Secondary_vocational  0.000000       inf\n",
      "University&higher     0.000000       inf\n",
      "divorced              0.000000       inf\n",
      "married               0.000000       inf\n",
      "single                0.000000       inf\n",
      "widow                 0.000000       inf\n",
      "30-44                 0.000000       inf\n",
      "45-59                 0.000000       inf\n",
      "60-74                 0.000000       inf\n",
      "<= 29                 0.000000       inf\n",
      ">= 75                 0.000000       inf\n",
      "Estonian              0.000000       inf\n",
      "Other                 0.000000       inf\n",
      "Central               0.814784  1.074427\n",
      "North-East            0.888979  1.167001\n",
      "South                 0.817249  1.028853\n",
      "West                  0.900037  1.149492\n",
      "AC                         NaN       NaN\n",
      "SCC                        NaN       NaN\n"
     ]
    },
    {
     "name": "stderr",
     "output_type": "stream",
     "text": [
      "/opt/conda/lib/python3.10/site-packages/pandas/core/internals/blocks.py:352: RuntimeWarning: overflow encountered in exp\n",
      "  result = func(self.values, **kwargs)\n"
     ]
    }
   ],
   "source": [
    "X = final\n",
    "X = X.drop(\"StageGroup\", axis=1)\n",
    "X = X.drop(\"North\", axis=1)\n",
    "result = get_model_result(X, y)\n",
    "log_odds = result.conf_int(alpha=0.05)\n",
    "odds = np.exp(log_odds)\n",
    "print(odds)"
   ]
  },
  {
   "cell_type": "code",
   "execution_count": 126,
   "id": "3b1ec478-94d3-4ac6-9e56-9fcc6f70248e",
   "metadata": {},
   "outputs": [
    {
     "name": "stdout",
     "output_type": "stream",
     "text": [
      "0                    const\n",
      "1            Basic&Primary\n",
      "2                Secondary\n",
      "3     Secondary_vocational\n",
      "4        University&higher\n",
      "5                 divorced\n",
      "6                  married\n",
      "7                   single\n",
      "8                    widow\n",
      "9                    30-44\n",
      "10                   45-59\n",
      "11                   60-74\n",
      "12                   <= 29\n",
      "13                   >= 75\n",
      "14                Estonian\n",
      "15                   Other\n",
      "16                 Central\n",
      "17              North-East\n",
      "18                   South\n",
      "19                    West\n",
      "20                      AC\n",
      "21                     SCC\n",
      "Name: 0, dtype: object\n",
      "0     0.779502\n",
      "1     1.068120\n",
      "2     0.972680\n",
      "3     0.904656\n",
      "4     0.829444\n",
      "5     0.949234\n",
      "6     0.908373\n",
      "7     1.040290\n",
      "8     0.869097\n",
      "9     0.715481\n",
      "10    1.102081\n",
      "11    1.373140\n",
      "12    0.458406\n",
      "13    1.570352\n",
      "14    0.866407\n",
      "15    0.899784\n",
      "16    0.935663\n",
      "17    1.018570\n",
      "18    0.916952\n",
      "19    1.017145\n",
      "20    0.864936\n",
      "21    0.901225\n",
      "Name: 1, dtype: float64\n"
     ]
    }
   ],
   "source": [
    "odd = get_prr(result)\n",
    "print(odd)"
   ]
  },
  {
   "cell_type": "code",
   "execution_count": null,
   "id": "e55d25b6-7574-49fe-9bf0-e9516ffb881e",
   "metadata": {},
   "outputs": [],
   "source": []
  }
 ],
 "metadata": {
  "kernelspec": {
   "display_name": "Python 3 (ipykernel)",
   "language": "python",
   "name": "python3"
  },
  "language_info": {
   "codemirror_mode": {
    "name": "ipython",
    "version": 3
   },
   "file_extension": ".py",
   "mimetype": "text/x-python",
   "name": "python",
   "nbconvert_exporter": "python",
   "pygments_lexer": "ipython3",
   "version": "3.10.6"
  }
 },
 "nbformat": 4,
 "nbformat_minor": 5
}
