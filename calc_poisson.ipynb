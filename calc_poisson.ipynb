{
 "cells": [
  {
   "cell_type": "code",
   "execution_count": 1,
   "id": "285f9003-e2d9-493e-885c-495f8b3d410c",
   "metadata": {},
   "outputs": [],
   "source": [
    "import pandas as pd\n",
    "import statsmodels.api as sm\n",
    "import numpy as np"
   ]
  },
  {
   "cell_type": "code",
   "execution_count": 2,
   "id": "0147976f-a750-45ed-974a-d968f93a4014",
   "metadata": {},
   "outputs": [],
   "source": [
    "final = pd.read_csv(\"./data_for_poisson.csv\", index_col=False)"
   ]
  },
  {
   "cell_type": "code",
   "execution_count": 3,
   "id": "4eee96d2-9f5f-4f06-aff2-d6b149d838c5",
   "metadata": {},
   "outputs": [],
   "source": [
    "def get_model_result(X, y):\n",
    "    exog = sm.add_constant(X)\n",
    "    poission_model = sm.GLM(y, exog, family=sm.families.Poisson(link=sm.families.links.log()))\n",
    "    result = poission_model.fit(cov_type=\"hc1\")\n",
    "    return result\n",
    "def get_prr(result):\n",
    "    body = pd.read_html(result.summary2().as_html())[1]\n",
    "    names = body[0].drop(0)\n",
    "    names = names.reset_index(drop=True)\n",
    "    body = body[1].drop(0)\n",
    "    print(names)\n",
    "    body = body.astype(float)\n",
    "    odds = np.exp(body)\n",
    "    odds = odds.reset_index(drop=True)\n",
    "    return odds"
   ]
  },
  {
   "cell_type": "code",
   "execution_count": 4,
   "id": "bc18f2eb-9893-4d05-bfe6-05210b7c0b5c",
   "metadata": {},
   "outputs": [],
   "source": [
    "#SINGLE"
   ]
  },
  {
   "cell_type": "code",
   "execution_count": 5,
   "id": "0536c547-455e-40e6-ad75-26ae1406da33",
   "metadata": {},
   "outputs": [
    {
     "name": "stdout",
     "output_type": "stream",
     "text": [
      "                             0         1\n",
      "const                 0.424233  0.538506\n",
      "Basic&Primary         1.280702  1.682492\n",
      "Secondary             1.100305  1.437656\n",
      "Secondary_vocational  1.019141  1.379680\n"
     ]
    }
   ],
   "source": [
    "y = final.StageGroup\n",
    "X = final[['Basic&Primary','Secondary', 'Secondary_vocational', 'University&higher']].copy()\n",
    "X = X.drop(\"University&higher\", axis=1)\n",
    "result = get_model_result(X, y)\n",
    "log_odds = result.conf_int(alpha=0.05)\n",
    "odds = np.exp(log_odds)\n",
    "print(odds)"
   ]
  },
  {
   "cell_type": "code",
   "execution_count": 6,
   "id": "bb05555f-7104-4ff1-8969-c854bff63703",
   "metadata": {},
   "outputs": [
    {
     "name": "stdout",
     "output_type": "stream",
     "text": [
      "                 Generalized Linear Model Regression Results                  \n",
      "==============================================================================\n",
      "Dep. Variable:             StageGroup   No. Observations:                 1701\n",
      "Model:                            GLM   Df Residuals:                     1697\n",
      "Model Family:                 Poisson   Df Model:                            3\n",
      "Link Function:                    log   Scale:                          1.0000\n",
      "Method:                          IRLS   Log-Likelihood:                -1530.3\n",
      "Date:                Fri, 10 Feb 2023   Deviance:                       1036.5\n",
      "Time:                        08:43:03   Pearson chi2:                     689.\n",
      "No. Iterations:                     5   Pseudo R-squ. (CS):           0.008491\n",
      "Covariance Type:                  hc1                                         \n",
      "========================================================================================\n",
      "                           coef    std err          z      P>|z|      [0.025      0.975]\n",
      "----------------------------------------------------------------------------------------\n",
      "const                   -0.7382      0.061    -12.132      0.000      -0.857      -0.619\n",
      "Basic&Primary            0.3838      0.070      5.514      0.000       0.247       0.520\n",
      "Secondary                0.2293      0.068      3.361      0.001       0.096       0.363\n",
      "Secondary_vocational     0.1704      0.077      2.205      0.027       0.019       0.322\n",
      "========================================================================================\n"
     ]
    }
   ],
   "source": [
    "print(result.summary())"
   ]
  },
  {
   "cell_type": "code",
   "execution_count": 7,
   "id": "5787d396-f332-4293-bc05-989515411a49",
   "metadata": {},
   "outputs": [
    {
     "name": "stdout",
     "output_type": "stream",
     "text": [
      "0                   const\n",
      "1           Basic&Primary\n",
      "2               Secondary\n",
      "3    Secondary_vocational\n",
      "Name: 0, dtype: object\n"
     ]
    },
    {
     "data": {
      "text/plain": [
       "0    0.477973\n",
       "1    1.467852\n",
       "2    1.257719\n",
       "3    1.185779\n",
       "Name: 1, dtype: float64"
      ]
     },
     "execution_count": 7,
     "metadata": {},
     "output_type": "execute_result"
    }
   ],
   "source": [
    "odd = get_prr(result) \n",
    "odd"
   ]
  },
  {
   "cell_type": "code",
   "execution_count": 8,
   "id": "2e0e9d71-dcb8-4470-a39a-5913c8ce069d",
   "metadata": {},
   "outputs": [],
   "source": [
    "#result.summary2()"
   ]
  },
  {
   "cell_type": "code",
   "execution_count": 9,
   "id": "ba22ffe3-4899-4725-9b3f-788308c96b72",
   "metadata": {},
   "outputs": [
    {
     "name": "stdout",
     "output_type": "stream",
     "text": [
      "                 0         1\n",
      "const     0.494670  0.578737\n",
      "divorced  1.041691  1.282319\n",
      "widow     1.174896  1.450592\n",
      "single    0.904222  1.166530\n"
     ]
    }
   ],
   "source": [
    "X = final[['married','divorced', 'widow', 'single']].copy()\n",
    "X = X.drop(\"married\", axis=1)\n",
    "result = get_model_result(X, y)\n",
    "log_odds = result.conf_int(alpha=0.05)\n",
    "odds = np.exp(log_odds)\n",
    "print(odds)\n"
   ]
  },
  {
   "cell_type": "code",
   "execution_count": 10,
   "id": "1453ece2-e9c2-415f-8b42-847c2c8d1053",
   "metadata": {},
   "outputs": [
    {
     "name": "stdout",
     "output_type": "stream",
     "text": [
      "0       const\n",
      "1    divorced\n",
      "2       widow\n",
      "3      single\n",
      "Name: 0, dtype: object\n"
     ]
    },
    {
     "data": {
      "text/plain": [
       "0    0.535047\n",
       "1    1.155808\n",
       "2    1.305518\n",
       "3    1.027060\n",
       "Name: 1, dtype: float64"
      ]
     },
     "execution_count": 10,
     "metadata": {},
     "output_type": "execute_result"
    }
   ],
   "source": [
    "odd = get_prr(result) \n",
    "odd"
   ]
  },
  {
   "cell_type": "code",
   "execution_count": 11,
   "id": "e8a911a8-0f07-49d5-aca8-3b35d14f9adf",
   "metadata": {},
   "outputs": [
    {
     "name": "stdout",
     "output_type": "stream",
     "text": [
      "                   0         1\n",
      "const       0.562191  0.637719\n",
      "South       0.838436  1.037815\n",
      "North-East  0.923303  1.177840\n",
      "Central     0.842900  1.102134\n",
      "West        0.947946  1.196018\n"
     ]
    }
   ],
   "source": [
    "X = final[['South','North-East', 'Central', 'West', 'North']].copy()\n",
    "X = X.drop(\"North\", axis=1)\n",
    "result = get_model_result(X, y)\n",
    "log_odds = result.conf_int(alpha=0.05)\n",
    "odds = np.exp(log_odds)\n",
    "print(odds)"
   ]
  },
  {
   "cell_type": "code",
   "execution_count": 12,
   "id": "c89f4a83-ea90-469a-a365-c08128ddb5e1",
   "metadata": {},
   "outputs": [
    {
     "name": "stdout",
     "output_type": "stream",
     "text": [
      "0         const\n",
      "1         South\n",
      "2    North-East\n",
      "3       Central\n",
      "4          West\n",
      "Name: 0, dtype: object\n"
     ]
    },
    {
     "data": {
      "text/plain": [
       "0    0.598757\n",
       "1    0.932860\n",
       "2    1.042790\n",
       "3    0.963869\n",
       "4    1.064814\n",
       "Name: 1, dtype: float64"
      ]
     },
     "execution_count": 12,
     "metadata": {},
     "output_type": "execute_result"
    }
   ],
   "source": [
    "odd = get_prr(result) \n",
    "odd"
   ]
  },
  {
   "cell_type": "code",
   "execution_count": 13,
   "id": "28a7d813-7415-45d9-bd36-767d941f6828",
   "metadata": {},
   "outputs": [
    {
     "name": "stdout",
     "output_type": "stream",
     "text": [
      "              0         1\n",
      "const  0.350618  0.442770\n",
      "<= 29  0.421431  1.066509\n",
      "45-59  1.321724  1.726298\n",
      "60-74  1.631704  2.119174\n",
      ">= 75  1.898675  2.466377\n"
     ]
    }
   ],
   "source": [
    "X = final[['<= 29','30-44', '45-59', '60-74', '>= 75']].copy()\n",
    "X = X.drop(\"30-44\", axis=1)\n",
    "result = get_model_result(X, y)\n",
    "log_odds = result.conf_int(alpha=0.05)\n",
    "odds = np.exp(log_odds)\n",
    "print(odds)"
   ]
  },
  {
   "cell_type": "code",
   "execution_count": 14,
   "id": "5d11b975-0f82-4625-9caf-344c9c0b7e40",
   "metadata": {},
   "outputs": [
    {
     "name": "stdout",
     "output_type": "stream",
     "text": [
      "0    const\n",
      "1    <= 29\n",
      "2    45-59\n",
      "3    60-74\n",
      "4    >= 75\n",
      "Name: 0, dtype: object\n"
     ]
    },
    {
     "data": {
      "text/plain": [
       "0    0.394002\n",
       "1    0.670387\n",
       "2    1.510590\n",
       "3    1.859486\n",
       "4    2.164090\n",
       "Name: 1, dtype: float64"
      ]
     },
     "execution_count": 14,
     "metadata": {},
     "output_type": "execute_result"
    }
   ],
   "source": [
    "odd = get_prr(result) \n",
    "odd"
   ]
  },
  {
   "cell_type": "code",
   "execution_count": 15,
   "id": "7ca0b5f0-f007-4e2a-99f3-66970a54b66a",
   "metadata": {},
   "outputs": [
    {
     "name": "stdout",
     "output_type": "stream",
     "text": [
      "                  0         1\n",
      "const      0.561468  0.613668\n",
      "AC         0.844441  1.092213\n",
      "CodeOther  1.107313  1.391704\n"
     ]
    }
   ],
   "source": [
    "X = final[['SCC','AC', 'CodeOther']].copy()\n",
    "X = X.drop(\"SCC\", axis=1)\n",
    "result = get_model_result(X, y)\n",
    "log_odds = result.conf_int(alpha=0.05)\n",
    "odds = np.exp(log_odds)\n",
    "print(odds)"
   ]
  },
  {
   "cell_type": "code",
   "execution_count": 16,
   "id": "9d169336-b332-4dac-91e6-70959e00602e",
   "metadata": {},
   "outputs": [
    {
     "name": "stdout",
     "output_type": "stream",
     "text": [
      "0        const\n",
      "1           AC\n",
      "2    CodeOther\n",
      "Name: 0, dtype: object\n"
     ]
    },
    {
     "data": {
      "text/plain": [
       "0    0.586959\n",
       "1    0.960405\n",
       "2    1.241351\n",
       "Name: 1, dtype: float64"
      ]
     },
     "execution_count": 16,
     "metadata": {},
     "output_type": "execute_result"
    }
   ],
   "source": [
    "odd = get_prr(result) \n",
    "odd"
   ]
  },
  {
   "cell_type": "code",
   "execution_count": 17,
   "id": "263788a7-3484-49dc-b8a1-e9c30142ed83",
   "metadata": {},
   "outputs": [
    {
     "name": "stdout",
     "output_type": "stream",
     "text": [
      "              0         1\n",
      "const  0.557297  0.614053\n",
      "Other  0.970241  1.143726\n"
     ]
    }
   ],
   "source": [
    "X = final[['Estonian','Other']].copy()\n",
    "X = X.drop(\"Estonian\", axis=1)\n",
    "result = get_model_result(X, y)\n",
    "log_odds = result.conf_int(alpha=0.05)\n",
    "odds = np.exp(log_odds)\n",
    "print(odds)"
   ]
  },
  {
   "cell_type": "code",
   "execution_count": 18,
   "id": "fd8d875a-dd3c-4069-9c72-b07cbd5aa289",
   "metadata": {},
   "outputs": [
    {
     "name": "stdout",
     "output_type": "stream",
     "text": [
      "0    const\n",
      "1    Other\n",
      "Name: 0, dtype: object\n"
     ]
    },
    {
     "data": {
      "text/plain": [
       "0    0.584967\n",
       "1    1.053376\n",
       "Name: 1, dtype: float64"
      ]
     },
     "execution_count": 18,
     "metadata": {},
     "output_type": "execute_result"
    }
   ],
   "source": [
    "odd = get_prr(result) \n",
    "odd"
   ]
  },
  {
   "cell_type": "code",
   "execution_count": 19,
   "id": "3301bb40-9d45-41be-af32-7e1533929199",
   "metadata": {},
   "outputs": [],
   "source": [
    "#MULTI"
   ]
  },
  {
   "cell_type": "code",
   "execution_count": 20,
   "id": "694a3e20-1483-4bcd-b802-d32852f321ae",
   "metadata": {},
   "outputs": [
    {
     "name": "stdout",
     "output_type": "stream",
     "text": [
      "                             0         1\n",
      "const                 0.000000       inf\n",
      "Basic&Primary         1.103082  1.553316\n",
      "Secondary             1.010495  1.397227\n",
      "Secondary_vocational  0.934194  1.351803\n",
      "divorced              0.000000       inf\n",
      "married               0.000000       inf\n",
      "single                0.000000       inf\n",
      "widow                 0.000000       inf\n",
      "30-44                 0.000000       inf\n",
      "45-59                 0.000000       inf\n",
      "60-74                 0.000000       inf\n",
      "<= 29                 0.000000       inf\n",
      ">= 75                 0.000000       inf\n",
      "Estonian              0.000000       inf\n",
      "Other                 0.000000       inf\n",
      "Central               0.000000       inf\n",
      "North                 0.000000       inf\n",
      "North-East            0.000000       inf\n",
      "South                 0.000000       inf\n",
      "West                  0.000000       inf\n",
      "AC                         NaN       NaN\n",
      "CodeOther             0.000000       inf\n",
      "SCC                   0.000000       inf\n"
     ]
    },
    {
     "name": "stderr",
     "output_type": "stream",
     "text": [
      "/opt/conda/lib/python3.10/site-packages/pandas/core/internals/blocks.py:352: RuntimeWarning: overflow encountered in exp\n",
      "  result = func(self.values, **kwargs)\n"
     ]
    }
   ],
   "source": [
    "X = final\n",
    "X = X.drop(\"StageGroup\", axis=1)\n",
    "X = X.drop(\"University&higher\", axis=1)\n",
    "result = get_model_result(X, y)\n",
    "log_odds = result.conf_int(alpha=0.05)\n",
    "odds = np.exp(log_odds)\n",
    "print(odds)"
   ]
  },
  {
   "cell_type": "code",
   "execution_count": 21,
   "id": "86a9c42a-11ae-4b1f-b860-19588164b50a",
   "metadata": {},
   "outputs": [
    {
     "name": "stdout",
     "output_type": "stream",
     "text": [
      "0                    const\n",
      "1            Basic&Primary\n",
      "2                Secondary\n",
      "3     Secondary_vocational\n",
      "4                 divorced\n",
      "5                  married\n",
      "6                   single\n",
      "7                    widow\n",
      "8                    30-44\n",
      "9                    45-59\n",
      "10                   60-74\n",
      "11                   <= 29\n",
      "12                   >= 75\n",
      "13                Estonian\n",
      "14                   Other\n",
      "15                 Central\n",
      "16                   North\n",
      "17              North-East\n",
      "18                   South\n",
      "19                    West\n",
      "20                      AC\n",
      "21               CodeOther\n",
      "22                     SCC\n",
      "Name: 0, dtype: object\n",
      "0     0.731982\n",
      "1     1.308917\n",
      "2     1.188272\n",
      "3     1.123782\n",
      "4     0.935008\n",
      "5     0.892883\n",
      "6     1.027265\n",
      "7     0.853423\n",
      "8     0.702788\n",
      "9     1.088608\n",
      "10    1.341247\n",
      "11    0.464172\n",
      "12    1.536796\n",
      "13    0.838366\n",
      "14    0.873105\n",
      "15    0.905018\n",
      "16    0.959349\n",
      "17    0.978632\n",
      "18    0.886566\n",
      "19    0.971611\n",
      "20    0.833518\n",
      "21    1.008133\n",
      "22    0.871099\n",
      "Name: 1, dtype: float64\n"
     ]
    }
   ],
   "source": [
    "odd = get_prr(result)\n",
    "print(odd)"
   ]
  },
  {
   "cell_type": "code",
   "execution_count": 22,
   "id": "9bf657e7-6edb-4147-9635-0448c9638915",
   "metadata": {},
   "outputs": [
    {
     "name": "stdout",
     "output_type": "stream",
     "text": [
      "                             0         1\n",
      "const                 0.000000       inf\n",
      "Basic&Primary         0.000000       inf\n",
      "Secondary             0.000000       inf\n",
      "Secondary_vocational  0.000000       inf\n",
      "University&higher     0.000000       inf\n",
      "divorced              0.000000       inf\n",
      "married               0.000000       inf\n",
      "single                0.000000       inf\n",
      "widow                 0.000000       inf\n",
      "45-59                 1.346114  1.777530\n",
      "60-74                 1.664442  2.185705\n",
      "<= 29                 0.417170  1.042100\n",
      ">= 75                 1.882819  2.542387\n",
      "Estonian              0.000000       inf\n",
      "Other                 0.000000       inf\n",
      "Central               0.000000       inf\n",
      "North                 0.000000       inf\n",
      "North-East            0.000000       inf\n",
      "South                 0.000000       inf\n",
      "West                  0.000000       inf\n",
      "AC                    0.000000  0.000000\n",
      "CodeOther                  NaN       NaN\n",
      "SCC                   0.000000  0.000000\n"
     ]
    },
    {
     "name": "stderr",
     "output_type": "stream",
     "text": [
      "/opt/conda/lib/python3.10/site-packages/pandas/core/internals/blocks.py:352: RuntimeWarning: overflow encountered in exp\n",
      "  result = func(self.values, **kwargs)\n"
     ]
    }
   ],
   "source": [
    "X = final\n",
    "X = X.drop(\"StageGroup\", axis=1)\n",
    "X = X.drop(\"30-44\", axis=1)\n",
    "result = get_model_result(X, y)\n",
    "log_odds = result.conf_int(alpha=0.05)\n",
    "odds = np.exp(log_odds)\n",
    "print(odds)"
   ]
  },
  {
   "cell_type": "code",
   "execution_count": 23,
   "id": "22f4b834-7215-4403-add5-f943d792806c",
   "metadata": {},
   "outputs": [
    {
     "name": "stdout",
     "output_type": "stream",
     "text": [
      "0                    const\n",
      "1            Basic&Primary\n",
      "2                Secondary\n",
      "3     Secondary_vocational\n",
      "4        University&higher\n",
      "5                 divorced\n",
      "6                  married\n",
      "7                   single\n",
      "8                    widow\n",
      "9                    45-59\n",
      "10                   60-74\n",
      "11                   <= 29\n",
      "12                   >= 75\n",
      "13                Estonian\n",
      "14                   Other\n",
      "15                 Central\n",
      "16                   North\n",
      "17              North-East\n",
      "18                   South\n",
      "19                    West\n",
      "20                      AC\n",
      "21               CodeOther\n",
      "22                     SCC\n",
      "Name: 0, dtype: object\n",
      "0          inf\n",
      "1     0.000000\n",
      "2     0.000000\n",
      "3     0.000000\n",
      "4     0.000000\n",
      "5     0.000000\n",
      "6     0.000000\n",
      "7     0.000000\n",
      "8     0.000000\n",
      "9     1.546818\n",
      "10    1.907322\n",
      "11    0.659351\n",
      "12    2.187808\n",
      "13    0.000000\n",
      "14    0.000000\n",
      "15    0.000000\n",
      "16    0.000000\n",
      "17    0.000000\n",
      "18    0.000000\n",
      "19    0.000000\n",
      "20    0.000000\n",
      "21    0.000000\n",
      "22    0.000000\n",
      "Name: 1, dtype: float64\n"
     ]
    },
    {
     "name": "stderr",
     "output_type": "stream",
     "text": [
      "/opt/conda/lib/python3.10/site-packages/pandas/core/arraylike.py:405: RuntimeWarning: overflow encountered in exp\n",
      "  result = getattr(ufunc, method)(*inputs, **kwargs)\n"
     ]
    }
   ],
   "source": [
    "odd = get_prr(result)\n",
    "print(odd)"
   ]
  },
  {
   "cell_type": "code",
   "execution_count": 24,
   "id": "d6c6ffa3-a9f1-4444-a3cb-ced17450c783",
   "metadata": {},
   "outputs": [
    {
     "name": "stdout",
     "output_type": "stream",
     "text": [
      "                          0         1\n",
      "const                 0.000       inf\n",
      "Basic&Primary         0.000       inf\n",
      "Secondary             0.000       inf\n",
      "Secondary_vocational  0.000       inf\n",
      "University&higher     0.000       inf\n",
      "divorced              0.000       inf\n",
      "married               0.000       inf\n",
      "single                0.000       inf\n",
      "widow                 0.000       inf\n",
      "30-44                 0.000       inf\n",
      "45-59                 0.000       inf\n",
      "60-74                 0.000       inf\n",
      "<= 29                 0.000       inf\n",
      ">= 75                 0.000       inf\n",
      "Other                 0.949  1.147579\n",
      "Central               0.000       inf\n",
      "North                 0.000       inf\n",
      "North-East            0.000       inf\n",
      "South                 0.000       inf\n",
      "West                  0.000       inf\n",
      "AC                    0.000  0.000000\n",
      "CodeOther             0.000  0.000000\n",
      "SCC                   0.000  0.000000\n"
     ]
    },
    {
     "name": "stderr",
     "output_type": "stream",
     "text": [
      "/opt/conda/lib/python3.10/site-packages/pandas/core/internals/blocks.py:352: RuntimeWarning: overflow encountered in exp\n",
      "  result = func(self.values, **kwargs)\n"
     ]
    }
   ],
   "source": [
    "X = final\n",
    "X = X.drop(\"StageGroup\", axis=1)\n",
    "X = X.drop(\"Estonian\", axis=1)\n",
    "result = get_model_result(X, y)\n",
    "log_odds = result.conf_int(alpha=0.05)\n",
    "odds = np.exp(log_odds)\n",
    "print(odds)"
   ]
  },
  {
   "cell_type": "code",
   "execution_count": 25,
   "id": "c3cf6ab5-c2d0-4389-a351-872735dcf890",
   "metadata": {},
   "outputs": [
    {
     "name": "stdout",
     "output_type": "stream",
     "text": [
      "0                    const\n",
      "1            Basic&Primary\n",
      "2                Secondary\n",
      "3     Secondary_vocational\n",
      "4        University&higher\n",
      "5                 divorced\n",
      "6                  married\n",
      "7                   single\n",
      "8                    widow\n",
      "9                    30-44\n",
      "10                   45-59\n",
      "11                   60-74\n",
      "12                   <= 29\n",
      "13                   >= 75\n",
      "14                   Other\n",
      "15                 Central\n",
      "16                   North\n",
      "17              North-East\n",
      "18                   South\n",
      "19                    West\n",
      "20                      AC\n",
      "21               CodeOther\n",
      "22                     SCC\n",
      "Name: 0, dtype: object\n",
      "0          inf\n",
      "1     0.000000\n",
      "2     0.000000\n",
      "3     0.000000\n",
      "4     0.000000\n",
      "5     0.000000\n",
      "6     0.000000\n",
      "7     0.000000\n",
      "8     0.000000\n",
      "9     0.000000\n",
      "10    0.000000\n",
      "11    0.000000\n",
      "12    0.000000\n",
      "13    0.000000\n",
      "14    1.043625\n",
      "15    0.000000\n",
      "16    0.000000\n",
      "17    0.000000\n",
      "18    0.000000\n",
      "19    0.000000\n",
      "20    0.000000\n",
      "21    0.000000\n",
      "22    0.000000\n",
      "Name: 1, dtype: float64\n"
     ]
    },
    {
     "name": "stderr",
     "output_type": "stream",
     "text": [
      "/opt/conda/lib/python3.10/site-packages/pandas/core/arraylike.py:405: RuntimeWarning: overflow encountered in exp\n",
      "  result = getattr(ufunc, method)(*inputs, **kwargs)\n"
     ]
    }
   ],
   "source": [
    "odd = get_prr(result)\n",
    "print(odd)"
   ]
  },
  {
   "cell_type": "code",
   "execution_count": 26,
   "id": "6e0fd86b-c102-49a1-970e-ab33c97d2a69",
   "metadata": {},
   "outputs": [
    {
     "name": "stdout",
     "output_type": "stream",
     "text": [
      "                             0         1\n",
      "const                 0.000000       inf\n",
      "Basic&Primary         0.000000       inf\n",
      "Secondary             0.000000       inf\n",
      "Secondary_vocational  0.000000       inf\n",
      "University&higher     0.000000       inf\n",
      "divorced              0.947397  1.155034\n",
      "single                1.017483  1.301412\n",
      "widow                 0.852689  1.070472\n",
      "30-44                 0.000000       inf\n",
      "45-59                 0.000000       inf\n",
      "60-74                 0.000000       inf\n",
      "<= 29                 0.000000       inf\n",
      ">= 75                 0.000000       inf\n",
      "Estonian              0.000000       inf\n",
      "Other                 0.000000       inf\n",
      "Central               0.000000       inf\n",
      "North                 0.000000       inf\n",
      "North-East            0.000000       inf\n",
      "South                 0.000000       inf\n",
      "West                  0.000000       inf\n",
      "AC                         NaN       NaN\n",
      "CodeOther                  NaN       NaN\n",
      "SCC                        NaN       NaN\n"
     ]
    },
    {
     "name": "stderr",
     "output_type": "stream",
     "text": [
      "/opt/conda/lib/python3.10/site-packages/pandas/core/internals/blocks.py:352: RuntimeWarning: overflow encountered in exp\n",
      "  result = func(self.values, **kwargs)\n"
     ]
    }
   ],
   "source": [
    "X = final\n",
    "X = X.drop(\"StageGroup\", axis=1)\n",
    "X = X.drop(\"married\", axis=1)\n",
    "result = get_model_result(X, y)\n",
    "log_odds = result.conf_int(alpha=0.05)\n",
    "odds = np.exp(log_odds)\n",
    "print(odds)"
   ]
  },
  {
   "cell_type": "code",
   "execution_count": 27,
   "id": "b54764ff-306c-4b19-9fa7-e7835ea2c0bf",
   "metadata": {},
   "outputs": [
    {
     "name": "stdout",
     "output_type": "stream",
     "text": [
      "0                    const\n",
      "1            Basic&Primary\n",
      "2                Secondary\n",
      "3     Secondary_vocational\n",
      "4        University&higher\n",
      "5                 divorced\n",
      "6                   single\n",
      "7                    widow\n",
      "8                    30-44\n",
      "9                    45-59\n",
      "10                   60-74\n",
      "11                   <= 29\n",
      "12                   >= 75\n",
      "13                Estonian\n",
      "14                   Other\n",
      "15                 Central\n",
      "16                   North\n",
      "17              North-East\n",
      "18                   South\n",
      "19                    West\n",
      "20                      AC\n",
      "21               CodeOther\n",
      "22                     SCC\n",
      "Name: 0, dtype: object\n",
      "0     0.000000\n",
      "1          inf\n",
      "2          inf\n",
      "3          inf\n",
      "4          inf\n",
      "5     1.046028\n",
      "6     1.150734\n",
      "7     0.955424\n",
      "8          inf\n",
      "9          inf\n",
      "10         inf\n",
      "11         inf\n",
      "12         inf\n",
      "13         inf\n",
      "14         inf\n",
      "15         inf\n",
      "16         inf\n",
      "17         inf\n",
      "18         inf\n",
      "19         inf\n",
      "20         inf\n",
      "21         inf\n",
      "22         inf\n",
      "Name: 1, dtype: float64\n"
     ]
    },
    {
     "name": "stderr",
     "output_type": "stream",
     "text": [
      "/opt/conda/lib/python3.10/site-packages/pandas/core/arraylike.py:405: RuntimeWarning: overflow encountered in exp\n",
      "  result = getattr(ufunc, method)(*inputs, **kwargs)\n"
     ]
    }
   ],
   "source": [
    "odd = get_prr(result)\n",
    "print(odd)"
   ]
  },
  {
   "cell_type": "code",
   "execution_count": 28,
   "id": "bb247c8f-4e86-46d5-a3bb-5bea88097494",
   "metadata": {},
   "outputs": [
    {
     "name": "stdout",
     "output_type": "stream",
     "text": [
      "                             0         1\n",
      "const                 0.000000       inf\n",
      "Basic&Primary         0.000000       inf\n",
      "Secondary             0.000000       inf\n",
      "Secondary_vocational  0.000000       inf\n",
      "University&higher     0.000000       inf\n",
      "divorced              0.000000       inf\n",
      "married               0.000000       inf\n",
      "single                0.000000       inf\n",
      "widow                 0.000000       inf\n",
      "30-44                 0.000000       inf\n",
      "45-59                 0.000000       inf\n",
      "60-74                 0.000000       inf\n",
      "<= 29                 0.000000       inf\n",
      ">= 75                 0.000000       inf\n",
      "Estonian              0.000000       inf\n",
      "Other                 0.000000       inf\n",
      "Central               0.000000       inf\n",
      "North                      NaN       NaN\n",
      "North-East                 NaN       NaN\n",
      "South                      NaN       NaN\n",
      "West                       NaN       NaN\n",
      "AC                    0.849598  1.075369\n",
      "CodeOther             1.039114  1.288173\n"
     ]
    },
    {
     "name": "stderr",
     "output_type": "stream",
     "text": [
      "/opt/conda/lib/python3.10/site-packages/pandas/core/internals/blocks.py:352: RuntimeWarning: overflow encountered in exp\n",
      "  result = func(self.values, **kwargs)\n"
     ]
    }
   ],
   "source": [
    "X = final\n",
    "X = X.drop(\"StageGroup\", axis=1)\n",
    "X = X.drop(\"SCC\", axis=1)\n",
    "result = get_model_result(X, y)\n",
    "log_odds = result.conf_int(alpha=0.05)\n",
    "odds = np.exp(log_odds)\n",
    "print(odds)"
   ]
  },
  {
   "cell_type": "code",
   "execution_count": 29,
   "id": "7f6407e7-0eda-4af0-9dfb-8cfa8a2bbe23",
   "metadata": {},
   "outputs": [
    {
     "name": "stdout",
     "output_type": "stream",
     "text": [
      "0                    const\n",
      "1            Basic&Primary\n",
      "2                Secondary\n",
      "3     Secondary_vocational\n",
      "4        University&higher\n",
      "5                 divorced\n",
      "6                  married\n",
      "7                   single\n",
      "8                    widow\n",
      "9                    30-44\n",
      "10                   45-59\n",
      "11                   60-74\n",
      "12                   <= 29\n",
      "13                   >= 75\n",
      "14                Estonian\n",
      "15                   Other\n",
      "16                 Central\n",
      "17                   North\n",
      "18              North-East\n",
      "19                   South\n",
      "20                    West\n",
      "21                      AC\n",
      "22               CodeOther\n",
      "Name: 0, dtype: object\n",
      "0     0.756691\n",
      "1     1.061624\n",
      "2     0.963291\n",
      "3     0.911467\n",
      "4     0.811801\n",
      "5     0.942518\n",
      "6     0.900865\n",
      "7     1.036345\n",
      "8     0.860020\n",
      "9     0.707371\n",
      "10    1.094284\n",
      "11    1.352561\n",
      "12    0.466359\n",
      "13    1.549915\n",
      "14    0.851888\n",
      "15    0.888252\n",
      "16    0.910647\n",
      "17    0.965123\n",
      "18    0.985210\n",
      "19    0.892615\n",
      "20    0.979023\n",
      "21    0.955806\n",
      "22    1.156965\n",
      "Name: 1, dtype: float64\n"
     ]
    }
   ],
   "source": [
    "odd = get_prr(result)\n",
    "print(odd)"
   ]
  },
  {
   "cell_type": "code",
   "execution_count": 30,
   "id": "80d145e5-4ee9-4e7b-9f21-34a0f778c2b6",
   "metadata": {},
   "outputs": [
    {
     "name": "stdout",
     "output_type": "stream",
     "text": [
      "                             0         1\n",
      "const                 0.000000       inf\n",
      "Basic&Primary         0.000000       inf\n",
      "Secondary             0.000000       inf\n",
      "Secondary_vocational  0.000000       inf\n",
      "University&higher     0.000000       inf\n",
      "divorced              0.000000       inf\n",
      "married               0.000000       inf\n",
      "single                0.000000       inf\n",
      "widow                 0.000000       inf\n",
      "30-44                 0.000000       inf\n",
      "45-59                 0.000000       inf\n",
      "60-74                 0.000000       inf\n",
      "<= 29                 0.000000       inf\n",
      ">= 75                 0.000000       inf\n",
      "Estonian              0.000000       inf\n",
      "Other                 0.000000       inf\n",
      "Central               0.827803  1.075367\n",
      "North-East            0.901344  1.155156\n",
      "South                 0.832399  1.027117\n",
      "West                  0.902067  1.139197\n",
      "AC                         NaN       NaN\n",
      "CodeOther                  NaN       NaN\n",
      "SCC                        NaN       NaN\n"
     ]
    },
    {
     "name": "stderr",
     "output_type": "stream",
     "text": [
      "/opt/conda/lib/python3.10/site-packages/pandas/core/internals/blocks.py:352: RuntimeWarning: overflow encountered in exp\n",
      "  result = func(self.values, **kwargs)\n"
     ]
    }
   ],
   "source": [
    "X = final\n",
    "X = X.drop(\"StageGroup\", axis=1)\n",
    "X = X.drop(\"North\", axis=1)\n",
    "result = get_model_result(X, y)\n",
    "log_odds = result.conf_int(alpha=0.05)\n",
    "odds = np.exp(log_odds)\n",
    "print(odds)"
   ]
  },
  {
   "cell_type": "code",
   "execution_count": 31,
   "id": "3b1ec478-94d3-4ac6-9e56-9fcc6f70248e",
   "metadata": {},
   "outputs": [
    {
     "name": "stdout",
     "output_type": "stream",
     "text": [
      "0                    const\n",
      "1            Basic&Primary\n",
      "2                Secondary\n",
      "3     Secondary_vocational\n",
      "4        University&higher\n",
      "5                 divorced\n",
      "6                  married\n",
      "7                   single\n",
      "8                    widow\n",
      "9                    30-44\n",
      "10                   45-59\n",
      "11                   60-74\n",
      "12                   <= 29\n",
      "13                   >= 75\n",
      "14                Estonian\n",
      "15                   Other\n",
      "16                 Central\n",
      "17              North-East\n",
      "18                   South\n",
      "19                    West\n",
      "20                      AC\n",
      "21               CodeOther\n",
      "22                     SCC\n",
      "Name: 0, dtype: object\n",
      "0     0.785606\n",
      "1     1.069189\n",
      "2     0.970543\n",
      "3     0.922101\n",
      "4     0.821109\n",
      "5     0.951610\n",
      "6     0.909555\n",
      "7     1.045714\n",
      "8     0.867968\n",
      "9     0.712981\n",
      "10    1.102191\n",
      "11    1.363016\n",
      "12    0.470105\n",
      "13    1.560178\n",
      "14    0.868055\n",
      "15    0.905018\n",
      "16    0.943461\n",
      "17    1.020405\n",
      "18    0.924687\n",
      "19    1.013693\n",
      "20    0.849846\n",
      "21    1.038731\n",
      "22    0.890030\n",
      "Name: 1, dtype: float64\n"
     ]
    }
   ],
   "source": [
    "odd = get_prr(result)\n",
    "print(odd)"
   ]
  },
  {
   "cell_type": "code",
   "execution_count": null,
   "id": "e55d25b6-7574-49fe-9bf0-e9516ffb881e",
   "metadata": {},
   "outputs": [],
   "source": []
  },
  {
   "cell_type": "code",
   "execution_count": null,
   "id": "2d46c958-be81-4c39-a024-b8084786096b",
   "metadata": {},
   "outputs": [],
   "source": []
  },
  {
   "cell_type": "code",
   "execution_count": null,
   "id": "32b4475d-ec6c-4a12-ae64-ea831b028dc4",
   "metadata": {},
   "outputs": [],
   "source": []
  }
 ],
 "metadata": {
  "kernelspec": {
   "display_name": "Python 3 (ipykernel)",
   "language": "python",
   "name": "python3"
  },
  "language_info": {
   "codemirror_mode": {
    "name": "ipython",
    "version": 3
   },
   "file_extension": ".py",
   "mimetype": "text/x-python",
   "name": "python",
   "nbconvert_exporter": "python",
   "pygments_lexer": "ipython3",
   "version": "3.10.6"
  }
 },
 "nbformat": 4,
 "nbformat_minor": 5
}
