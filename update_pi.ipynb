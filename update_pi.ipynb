{
 "cells": [
  {
   "cell_type": "code",
   "execution_count": 1,
   "id": "a26a9b29-5f08-4dee-b161-944ea2f89989",
   "metadata": {},
   "outputs": [],
   "source": [
    "import pandas as pd\n",
    "import numpy as np\n",
    "from scipy.stats import chi2_contingency"
   ]
  },
  {
   "cell_type": "code",
   "execution_count": 2,
   "id": "30cfe4a6-9907-4b9b-b221-9f19062e2a15",
   "metadata": {},
   "outputs": [],
   "source": [
    "data = pd.read_csv(\"./prepared_data.csv\", index_col=False)"
   ]
  },
  {
   "cell_type": "code",
   "execution_count": 3,
   "id": "53491482-5b3b-4eec-93ce-2b1e6c0c6139",
   "metadata": {},
   "outputs": [],
   "source": [
    "def get_pretty_pecent(a, b):\n",
    "    return round(100 * float(a)/float(b), 2)\n",
    "    #return \"{:.2%}\".format(a/b)\n",
    "def get_chi(a, b):\n",
    "    ctab = pd.crosstab(a, b)\n",
    "    #print(ctab)\n",
    "    chi2, p, dof, ex = chi2_contingency(ctab)\n",
    "    return p"
   ]
  },
  {
   "cell_type": "code",
   "execution_count": 4,
   "id": "c3496f45-c3a7-4fcf-bc3f-a7f8f2879417",
   "metadata": {},
   "outputs": [
    {
     "data": {
      "text/plain": [
       "1208"
      ]
     },
     "execution_count": 4,
     "metadata": {},
     "output_type": "execute_result"
    }
   ],
   "source": [
    "#drop unknown and empty\n",
    "fullData = data.drop(data[data['StageGroup'].isnull()].index)\n",
    "fullData = fullData.drop(fullData[fullData['AgeGroup'].isnull()].index)\n",
    "fullData = fullData.drop(fullData[fullData['Period']=='2011-2014'].index)\n",
    "len(fullData)"
   ]
  },
  {
   "cell_type": "code",
   "execution_count": 5,
   "id": "5f819987-80da-40b0-8a1f-0c7d68c80e34",
   "metadata": {},
   "outputs": [
    {
     "data": {
      "text/html": [
       "<div>\n",
       "<style scoped>\n",
       "    .dataframe tbody tr th:only-of-type {\n",
       "        vertical-align: middle;\n",
       "    }\n",
       "\n",
       "    .dataframe tbody tr th {\n",
       "        vertical-align: top;\n",
       "    }\n",
       "\n",
       "    .dataframe thead th {\n",
       "        text-align: right;\n",
       "    }\n",
       "</style>\n",
       "<table border=\"1\" class=\"dataframe\">\n",
       "  <thead>\n",
       "    <tr style=\"text-align: right;\">\n",
       "      <th></th>\n",
       "      <th>Code</th>\n",
       "      <th>Year</th>\n",
       "      <th>Nationality</th>\n",
       "      <th>Marital Status</th>\n",
       "      <th>Education</th>\n",
       "      <th>Residence</th>\n",
       "      <th>Age</th>\n",
       "      <th>Stage</th>\n",
       "      <th>Micdo</th>\n",
       "      <th>CodeGroup</th>\n",
       "      <th>StageGroup</th>\n",
       "      <th>Period</th>\n",
       "      <th>AgeGroup</th>\n",
       "    </tr>\n",
       "  </thead>\n",
       "  <tbody>\n",
       "    <tr>\n",
       "      <th>0</th>\n",
       "      <td>80733</td>\n",
       "      <td>2007</td>\n",
       "      <td>Estonian</td>\n",
       "      <td>divorced</td>\n",
       "      <td>Secondary</td>\n",
       "      <td>North</td>\n",
       "      <td>62</td>\n",
       "      <td>3.0</td>\n",
       "      <td>8073</td>\n",
       "      <td>SCC</td>\n",
       "      <td>1.0</td>\n",
       "      <td>2007-2010</td>\n",
       "      <td>60-74</td>\n",
       "    </tr>\n",
       "    <tr>\n",
       "      <th>2</th>\n",
       "      <td>89803</td>\n",
       "      <td>2008</td>\n",
       "      <td>Estonian</td>\n",
       "      <td>widow</td>\n",
       "      <td>Secondary</td>\n",
       "      <td>North</td>\n",
       "      <td>65</td>\n",
       "      <td>3.0</td>\n",
       "      <td>8980</td>\n",
       "      <td>Other</td>\n",
       "      <td>1.0</td>\n",
       "      <td>2007-2010</td>\n",
       "      <td>60-74</td>\n",
       "    </tr>\n",
       "    <tr>\n",
       "      <th>8</th>\n",
       "      <td>85603</td>\n",
       "      <td>2007</td>\n",
       "      <td>Estonian</td>\n",
       "      <td>widow</td>\n",
       "      <td>Basic&amp;Primary</td>\n",
       "      <td>South</td>\n",
       "      <td>63</td>\n",
       "      <td>1.0</td>\n",
       "      <td>8560</td>\n",
       "      <td>Other</td>\n",
       "      <td>0.0</td>\n",
       "      <td>2007-2010</td>\n",
       "      <td>60-74</td>\n",
       "    </tr>\n",
       "    <tr>\n",
       "      <th>9</th>\n",
       "      <td>80733</td>\n",
       "      <td>2007</td>\n",
       "      <td>Estonian</td>\n",
       "      <td>married</td>\n",
       "      <td>University&amp;higher</td>\n",
       "      <td>West</td>\n",
       "      <td>50</td>\n",
       "      <td>1.0</td>\n",
       "      <td>8073</td>\n",
       "      <td>SCC</td>\n",
       "      <td>0.0</td>\n",
       "      <td>2007-2010</td>\n",
       "      <td>45-59</td>\n",
       "    </tr>\n",
       "    <tr>\n",
       "      <th>11</th>\n",
       "      <td>80703</td>\n",
       "      <td>2008</td>\n",
       "      <td>Estonian</td>\n",
       "      <td>divorced</td>\n",
       "      <td>Secondary</td>\n",
       "      <td>Central</td>\n",
       "      <td>52</td>\n",
       "      <td>3.0</td>\n",
       "      <td>8070</td>\n",
       "      <td>SCC</td>\n",
       "      <td>1.0</td>\n",
       "      <td>2007-2010</td>\n",
       "      <td>45-59</td>\n",
       "    </tr>\n",
       "  </tbody>\n",
       "</table>\n",
       "</div>"
      ],
      "text/plain": [
       "     Code  Year Nationality Marital Status          Education Residence  Age  \\\n",
       "0   80733  2007    Estonian       divorced          Secondary     North   62   \n",
       "2   89803  2008    Estonian          widow          Secondary     North   65   \n",
       "8   85603  2007    Estonian          widow      Basic&Primary     South   63   \n",
       "9   80733  2007    Estonian        married  University&higher      West   50   \n",
       "11  80703  2008    Estonian       divorced          Secondary   Central   52   \n",
       "\n",
       "    Stage  Micdo CodeGroup  StageGroup     Period AgeGroup  \n",
       "0     3.0   8073       SCC         1.0  2007-2010    60-74  \n",
       "2     3.0   8980     Other         1.0  2007-2010    60-74  \n",
       "8     1.0   8560     Other         0.0  2007-2010    60-74  \n",
       "9     1.0   8073       SCC         0.0  2007-2010    45-59  \n",
       "11    3.0   8070       SCC         1.0  2007-2010    45-59  "
      ]
     },
     "execution_count": 5,
     "metadata": {},
     "output_type": "execute_result"
    }
   ],
   "source": [
    "fullData.head()"
   ]
  },
  {
   "cell_type": "code",
   "execution_count": 6,
   "id": "70128d14-d52d-4818-aca9-61f0b8ea0225",
   "metadata": {},
   "outputs": [],
   "source": [
    "fullData = fullData[[\n",
    "    'Period',\n",
    "    'AgeGroup',\n",
    "    'StageGroup'\n",
    "]]"
   ]
  },
  {
   "cell_type": "code",
   "execution_count": 7,
   "id": "b798bd2f-8a60-4544-a05c-5635b9aa82f2",
   "metadata": {},
   "outputs": [
    {
     "data": {
      "text/html": [
       "<div>\n",
       "<style scoped>\n",
       "    .dataframe tbody tr th:only-of-type {\n",
       "        vertical-align: middle;\n",
       "    }\n",
       "\n",
       "    .dataframe tbody tr th {\n",
       "        vertical-align: top;\n",
       "    }\n",
       "\n",
       "    .dataframe thead th {\n",
       "        text-align: right;\n",
       "    }\n",
       "</style>\n",
       "<table border=\"1\" class=\"dataframe\">\n",
       "  <thead>\n",
       "    <tr style=\"text-align: right;\">\n",
       "      <th></th>\n",
       "      <th>Period</th>\n",
       "      <th>AgeGroup</th>\n",
       "      <th>StageGroup</th>\n",
       "    </tr>\n",
       "  </thead>\n",
       "  <tbody>\n",
       "    <tr>\n",
       "      <th>0</th>\n",
       "      <td>2007-2010</td>\n",
       "      <td>60-74</td>\n",
       "      <td>1.0</td>\n",
       "    </tr>\n",
       "    <tr>\n",
       "      <th>2</th>\n",
       "      <td>2007-2010</td>\n",
       "      <td>60-74</td>\n",
       "      <td>1.0</td>\n",
       "    </tr>\n",
       "    <tr>\n",
       "      <th>8</th>\n",
       "      <td>2007-2010</td>\n",
       "      <td>60-74</td>\n",
       "      <td>0.0</td>\n",
       "    </tr>\n",
       "    <tr>\n",
       "      <th>9</th>\n",
       "      <td>2007-2010</td>\n",
       "      <td>45-59</td>\n",
       "      <td>0.0</td>\n",
       "    </tr>\n",
       "    <tr>\n",
       "      <th>11</th>\n",
       "      <td>2007-2010</td>\n",
       "      <td>45-59</td>\n",
       "      <td>1.0</td>\n",
       "    </tr>\n",
       "  </tbody>\n",
       "</table>\n",
       "</div>"
      ],
      "text/plain": [
       "       Period AgeGroup  StageGroup\n",
       "0   2007-2010    60-74         1.0\n",
       "2   2007-2010    60-74         1.0\n",
       "8   2007-2010    60-74         0.0\n",
       "9   2007-2010    45-59         0.0\n",
       "11  2007-2010    45-59         1.0"
      ]
     },
     "execution_count": 7,
     "metadata": {},
     "output_type": "execute_result"
    }
   ],
   "source": [
    "fullData.head()"
   ]
  },
  {
   "cell_type": "code",
   "execution_count": 8,
   "id": "98709d11-f8a8-4891-94ee-07ee3f95bd7a",
   "metadata": {},
   "outputs": [
    {
     "data": {
      "text/plain": [
       "0.004728217873899362"
      ]
     },
     "execution_count": 8,
     "metadata": {},
     "output_type": "execute_result"
    }
   ],
   "source": [
    "get_chi(\n",
    "    fullData['Period'],\n",
    "    fullData['StageGroup']\n",
    ")"
   ]
  },
  {
   "cell_type": "code",
   "execution_count": 9,
   "id": "98d18f6c-6e81-4e38-b7ef-1a27d8cb2e2c",
   "metadata": {},
   "outputs": [
    {
     "name": "stdout",
     "output_type": "stream",
     "text": [
      "StageGroup  0.0  1.0\n",
      "Period              \n",
      "2007-2010   305  384\n",
      "2015-2018   187  332\n"
     ]
    }
   ],
   "source": [
    "ctab = pd.crosstab(fullData['Period'], fullData['StageGroup'])\n",
    "print(ctab)"
   ]
  },
  {
   "cell_type": "code",
   "execution_count": 10,
   "id": "e8cdaee6-f96d-400c-bf9f-3d059cd64be0",
   "metadata": {},
   "outputs": [
    {
     "data": {
      "text/plain": [
       "1.0"
      ]
     },
     "execution_count": 10,
     "metadata": {},
     "output_type": "execute_result"
    }
   ],
   "source": [
    "get_chi(\n",
    "    fullData[fullData['AgeGroup']=='<= 29']['Period'],\n",
    "    fullData[fullData['AgeGroup']=='<= 29']['StageGroup']\n",
    ")"
   ]
  },
  {
   "cell_type": "code",
   "execution_count": 11,
   "id": "f6994aba-13e9-4c47-9da6-9b815b07a6e0",
   "metadata": {},
   "outputs": [
    {
     "name": "stdout",
     "output_type": "stream",
     "text": [
      "StageGroup  0.0  1.0\n",
      "Period              \n",
      "2007-2010    17    6\n",
      "2015-2018    11    3\n"
     ]
    }
   ],
   "source": [
    "ctab = pd.crosstab(fullData[fullData['AgeGroup']=='<= 29']['Period'], fullData['StageGroup'])\n",
    "print(ctab)"
   ]
  },
  {
   "cell_type": "code",
   "execution_count": 12,
   "id": "093e8320-8a3d-4312-9695-c2edfe4729f0",
   "metadata": {},
   "outputs": [
    {
     "data": {
      "text/plain": [
       "0.0754967945533354"
      ]
     },
     "execution_count": 12,
     "metadata": {},
     "output_type": "execute_result"
    }
   ],
   "source": [
    "get_chi(\n",
    "    fullData[fullData['AgeGroup']=='30-44']['Period'],\n",
    "    fullData[fullData['AgeGroup']=='30-44']['StageGroup']\n",
    ")"
   ]
  },
  {
   "cell_type": "code",
   "execution_count": 13,
   "id": "94ef7139-854f-4425-b0b2-29ab3938268f",
   "metadata": {},
   "outputs": [
    {
     "name": "stdout",
     "output_type": "stream",
     "text": [
      "StageGroup  0.0  1.0\n",
      "Period              \n",
      "2007-2010   111   59\n",
      "2015-2018    72   60\n"
     ]
    }
   ],
   "source": [
    "ctab = pd.crosstab(fullData[fullData['AgeGroup']=='30-44']['Period'], fullData['StageGroup'])\n",
    "print(ctab)"
   ]
  },
  {
   "cell_type": "code",
   "execution_count": 14,
   "id": "c41c1f64-7b35-4076-8af8-c11f9c958771",
   "metadata": {},
   "outputs": [
    {
     "data": {
      "text/plain": [
       "0.004849227730950212"
      ]
     },
     "execution_count": 14,
     "metadata": {},
     "output_type": "execute_result"
    }
   ],
   "source": [
    "get_chi(\n",
    "    fullData[fullData['AgeGroup']=='45-59']['Period'],\n",
    "    fullData['StageGroup']\n",
    ")"
   ]
  },
  {
   "cell_type": "code",
   "execution_count": 84,
   "id": "a91eeddb-ae81-404a-be7a-c505ad72c0c5",
   "metadata": {},
   "outputs": [
    {
     "name": "stdout",
     "output_type": "stream",
     "text": [
      "StageGroup  0.0  1.0\n",
      "Period              \n",
      "2007-2010   121  149\n",
      "2015-2018    56  124\n"
     ]
    }
   ],
   "source": [
    "ctab = pd.crosstab(fullData[fullData['AgeGroup']=='45-59']['Period'], fullData['StageGroup'])\n",
    "print(ctab)"
   ]
  },
  {
   "cell_type": "code",
   "execution_count": 15,
   "id": "d87dd082-965d-4686-a1a0-f6374aa2192d",
   "metadata": {},
   "outputs": [
    {
     "data": {
      "text/plain": [
       "1.0"
      ]
     },
     "execution_count": 15,
     "metadata": {},
     "output_type": "execute_result"
    }
   ],
   "source": [
    "get_chi(\n",
    "    fullData[fullData['AgeGroup']=='60-74']['Period'],\n",
    "    fullData[fullData['AgeGroup']=='60-74']['StageGroup']\n",
    ")"
   ]
  },
  {
   "cell_type": "code",
   "execution_count": 16,
   "id": "0320178f-e3b1-41be-a5d9-07eae8056577",
   "metadata": {},
   "outputs": [
    {
     "name": "stdout",
     "output_type": "stream",
     "text": [
      "StageGroup  0.0  1.0\n",
      "Period              \n",
      "2007-2010    43  103\n",
      "2015-2018    36   86\n"
     ]
    }
   ],
   "source": [
    "ctab = pd.crosstab(fullData[fullData['AgeGroup']=='60-74']['Period'], fullData['StageGroup'])\n",
    "print(ctab)"
   ]
  },
  {
   "cell_type": "code",
   "execution_count": 87,
   "id": "a42ea601-e04a-4a0a-ac33-9de0d8986506",
   "metadata": {},
   "outputs": [
    {
     "data": {
      "text/plain": [
       "1.0"
      ]
     },
     "execution_count": 87,
     "metadata": {},
     "output_type": "execute_result"
    }
   ],
   "source": [
    "get_chi(\n",
    "    fullData[fullData['AgeGroup']=='>= 75']['Period'],\n",
    "    fullData['StageGroup']\n",
    ")"
   ]
  },
  {
   "cell_type": "code",
   "execution_count": 88,
   "id": "8f7c7786-9266-4e0c-bc78-8c1aabbeafb0",
   "metadata": {},
   "outputs": [
    {
     "name": "stdout",
     "output_type": "stream",
     "text": [
      "StageGroup  0.0  1.0\n",
      "Period              \n",
      "2007-2010    13   67\n",
      "2015-2018    12   59\n"
     ]
    }
   ],
   "source": [
    "ctab = pd.crosstab(fullData[fullData['AgeGroup']=='>= 75']['Period'], fullData['StageGroup'])\n",
    "print(ctab)"
   ]
  },
  {
   "cell_type": "code",
   "execution_count": 89,
   "id": "97a09836-32bc-43f0-80d2-fca7bd30367c",
   "metadata": {},
   "outputs": [],
   "source": [
    "#https://stats.stackexchange.com/questions/110718/chi-squared-test-with-scipy-whats-the-difference-between-chi2-contingency-and\n",
    "#https://towardsdatascience.com/chi-square-test-how-to-calculate-chi-square-using-formula-python-implementation-6da203f96569\n",
    "#https://stats.stackexchange.com/questions/571729/p-value-of-chi-square-test-of-independence"
   ]
  },
  {
   "cell_type": "code",
   "execution_count": null,
   "id": "dd33481a-40e7-4768-9eaa-7b80a8e1ce76",
   "metadata": {},
   "outputs": [],
   "source": []
  }
 ],
 "metadata": {
  "kernelspec": {
   "display_name": "Python 3 (ipykernel)",
   "language": "python",
   "name": "python3"
  },
  "language_info": {
   "codemirror_mode": {
    "name": "ipython",
    "version": 3
   },
   "file_extension": ".py",
   "mimetype": "text/x-python",
   "name": "python",
   "nbconvert_exporter": "python",
   "pygments_lexer": "ipython3",
   "version": "3.10.6"
  }
 },
 "nbformat": 4,
 "nbformat_minor": 5
}
